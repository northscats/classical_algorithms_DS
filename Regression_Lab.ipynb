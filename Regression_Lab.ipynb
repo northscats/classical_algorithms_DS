{
  "cells": [
    {
      "cell_type": "markdown",
      "metadata": {
        "id": "O32fG7o2JGyi"
      },
      "source": [
        "## **Введение**\n",
        "\n",
        "В данной работе мы рассмотрим основной алгоритм решения задачи регрессии, а также познакомимся с основными техниками работы с обучением и обучаемыми моделями на данных, которые пригодятся в дальнейшем практически для всех задач машинного и глубокого обучения."
      ]
    },
    {
      "cell_type": "code",
      "execution_count": null,
      "metadata": {
        "colab": {
          "base_uri": "https://localhost:8080/",
          "height": 35
        },
        "id": "ykzFtiZnlbaL",
        "outputId": "527204da-6ea6-4f02-ad6b-0af61e7ef4e4"
      },
      "outputs": [
        {
          "data": {
            "text/plain": [
              "<Figure size 720x540 with 0 Axes>"
            ]
          },
          "metadata": {},
          "output_type": "display_data"
        }
      ],
      "source": [
        "# Библиотека для продвинутой работы с многомерными массивами данных\n",
        "import numpy as np\n",
        "\n",
        "# Библиотека для простой визуализации данных\n",
        "import matplotlib.pyplot as plt\n",
        "\n",
        "plt.rcParams['figure.figsize'] = 10, 7.5    # Стандартные размеры графиков\n",
        "plt.rcParams['axes.grid'] = True            # Сетка графика\n",
        "plt.pink()                                  # Цветовая схема при раскраске\n",
        "\n",
        "# Работа с таблицами данных\n",
        "import pandas as pd\n",
        "\n",
        "# Машинное обучение\n",
        "import sklearn.datasets as datasets\n",
        "from sklearn.model_selection import train_test_split                    # Деление датасета\n",
        "from sklearn.linear_model import LinearRegression, LassoCV, RidgeCV    # Модели регрессии\n",
        "from sklearn.metrics import r2_score, mean_absolute_error               # Метрики качества регрессии"
      ]
    },
    {
      "cell_type": "markdown",
      "metadata": {
        "id": "X5tixCH4Ifsb"
      },
      "source": [
        "\n",
        "## **Суть метода линейной регрессии**\n",
        "\n",
        "Метод линейной регрессии самый простой метод машинного обучения. Линейная регрессия решает задачу обучения с учителем -- **задачу регрессии**.\n",
        "\n",
        "Задача регрессии заключается в востановлении непрерывной зависимости между предикторами $X = (x_1, x_2, \\dots, x_m)$ (столбцы таблицы данных или переменные, выбранные в качестве зависимых переменных, $x_i,\\ i$ - номер переменной) и откликом $Y$ (выбранным столбцом, который мы хотим предсказать).\n",
        "\n",
        "Линейная модель метода линейной регрессии выглядит следующим образом: \n",
        "\n",
        "\\begin{equation} \n",
        "    \\hat{Y}(\\omega, X) = \\omega_0 + \\sum_{i = 1}^{m} \\omega_i \\cdot x_i = \\omega_0 \\cdot 1 + \\omega_1 \\cdot x_1 + \\omega_2 \\cdot x_2 + \\dots + \\omega_m \\cdot x_m\n",
        "\\end{equation}\n",
        "\n",
        "Пусть у нас в распоряжении имеется таблица данных для решения задачи регресии:\n",
        "\n",
        "\\begin{equation}\n",
        "data = \\begin{vmatrix}  \n",
        "            x_1 & x_2 & \\dots & x_m & y \\\\ \\hline\n",
        "            x_{11} & x_{12} & \\dots & x_{1m} & y_1 \\\\\n",
        "            x_{21} & x_{22} & \\dots & x_{2m} & y_2 \\\\ \n",
        "            \\dots & \\dots & \\dots & \\dots & \\dots \\\\\n",
        "            x_{n1} & x_{n2} & \\dots & x_{nm} & y_n \n",
        "        \\end{vmatrix}\n",
        "\\end{equation}\n",
        "где данная таблица состоит из столбцов-предикторов $X$ и столбца-отклика $Y$:\n",
        "\n",
        "\\begin{equation}\n",
        "X_{n\\times m} = \\begin{pmatrix}  \n",
        "            x_1 & x_2 & \\dots & x_m \\\\ \\hline\n",
        "            x_{11} & x_{12} & \\dots & x_{1m}  \\\\\n",
        "            x_{21} & x_{22} & \\dots & x_{2m}  \\\\ \n",
        "            \\dots & \\dots & \\dots & \\dots  \\\\\n",
        "            x_{n1} & x_{n2} & \\dots & x_{nm} \n",
        "        \\end{pmatrix}, \\ \\ \n",
        "Y_{n\\times 1} = \\begin{pmatrix}  \n",
        "            y \\\\ \\hline\n",
        "            y_1 \\\\\n",
        "            y_2 \\\\ \n",
        "            \\dots \\\\\n",
        "            y_n \n",
        "        \\end{pmatrix}\n",
        "\\end{equation}\n",
        "\n",
        "Тогда для каждой строки или наблюдения $j$ в таблице данных оцениваемое значение по построенной модели $\\hat{Y_j}$ выглядит так:\n",
        "\n",
        "\\begin{equation}\n",
        "    \\hat{Y}(\\omega, X_j) = \\omega_o + \\sum_{i = 1}^{m} \\omega_i \\cdot x_{ji}\n",
        "\\end{equation}"
      ]
    },
    {
      "cell_type": "markdown",
      "metadata": {
        "id": "AZGoYp8MJpd0"
      },
      "source": [
        "## **Алгоритм обучения моделей**\n",
        "\n",
        "0. Загрузка данных\n",
        "1. Исследование данных\n",
        "2. Предобработка данных\n",
        "3. Деление данных на тренировочную выборку и тестовую выборку\n",
        "4. Выбор модели машинного обучения\n",
        "5. Обучение с кросс-валидацией для обучения параметров модели и гиперпараметров архитектуры модели\n",
        "6. Оценка качества моделей на отложенной тестовой выборке по выбранным метрикам качества\n",
        "7. Выводы и сохранение лучшей модели"
      ]
    },
    {
      "cell_type": "markdown",
      "metadata": {
        "id": "9PpB_mJyKgX6"
      },
      "source": [
        "## **Загрузка данных**\n",
        "\n",
        "Возьмем данные из датасета **Ames Housing** с помощью функции загрузки из **scikit_learn.datasets**"
      ]
    },
    {
      "cell_type": "code",
      "execution_count": null,
      "metadata": {
        "id": "CT3bh8S7zmBd"
      },
      "outputs": [],
      "source": [
        "df = datasets.fetch_openml(name=\"house_prices\", as_frame=True)\n",
        "dataframe = df['frame']"
      ]
    },
    {
      "cell_type": "markdown",
      "metadata": {
        "id": "IiZEDguYK2_k"
      },
      "source": [
        "## **Исследование данных**\n",
        "\n",
        "Просмотрим первые значения таблицы для того, чтобы удостовериться в правильности импорта столбцов и корректности определения их типов"
      ]
    },
    {
      "cell_type": "code",
      "execution_count": null,
      "metadata": {
        "colab": {
          "base_uri": "https://localhost:8080/",
          "height": 299
        },
        "id": "yJ-1nCz92ye-",
        "outputId": "302e9973-91d3-4222-99a0-05cf477da39a"
      },
      "outputs": [
        {
          "data": {
            "text/html": [
              "\n",
              "  <div id=\"df-ae18a4f2-7c11-45ae-89f9-43a1aebe0e97\">\n",
              "    <div class=\"colab-df-container\">\n",
              "      <div>\n",
              "<style scoped>\n",
              "    .dataframe tbody tr th:only-of-type {\n",
              "        vertical-align: middle;\n",
              "    }\n",
              "\n",
              "    .dataframe tbody tr th {\n",
              "        vertical-align: top;\n",
              "    }\n",
              "\n",
              "    .dataframe thead th {\n",
              "        text-align: right;\n",
              "    }\n",
              "</style>\n",
              "<table border=\"1\" class=\"dataframe\">\n",
              "  <thead>\n",
              "    <tr style=\"text-align: right;\">\n",
              "      <th></th>\n",
              "      <th>Id</th>\n",
              "      <th>MSSubClass</th>\n",
              "      <th>MSZoning</th>\n",
              "      <th>LotFrontage</th>\n",
              "      <th>LotArea</th>\n",
              "      <th>Street</th>\n",
              "      <th>Alley</th>\n",
              "      <th>LotShape</th>\n",
              "      <th>LandContour</th>\n",
              "      <th>Utilities</th>\n",
              "      <th>...</th>\n",
              "      <th>PoolArea</th>\n",
              "      <th>PoolQC</th>\n",
              "      <th>Fence</th>\n",
              "      <th>MiscFeature</th>\n",
              "      <th>MiscVal</th>\n",
              "      <th>MoSold</th>\n",
              "      <th>YrSold</th>\n",
              "      <th>SaleType</th>\n",
              "      <th>SaleCondition</th>\n",
              "      <th>SalePrice</th>\n",
              "    </tr>\n",
              "  </thead>\n",
              "  <tbody>\n",
              "    <tr>\n",
              "      <th>0</th>\n",
              "      <td>1.0</td>\n",
              "      <td>60.0</td>\n",
              "      <td>RL</td>\n",
              "      <td>65.0</td>\n",
              "      <td>8450.0</td>\n",
              "      <td>Pave</td>\n",
              "      <td>None</td>\n",
              "      <td>Reg</td>\n",
              "      <td>Lvl</td>\n",
              "      <td>AllPub</td>\n",
              "      <td>...</td>\n",
              "      <td>0.0</td>\n",
              "      <td>None</td>\n",
              "      <td>None</td>\n",
              "      <td>None</td>\n",
              "      <td>0.0</td>\n",
              "      <td>2.0</td>\n",
              "      <td>2008.0</td>\n",
              "      <td>WD</td>\n",
              "      <td>Normal</td>\n",
              "      <td>208500.0</td>\n",
              "    </tr>\n",
              "    <tr>\n",
              "      <th>1</th>\n",
              "      <td>2.0</td>\n",
              "      <td>20.0</td>\n",
              "      <td>RL</td>\n",
              "      <td>80.0</td>\n",
              "      <td>9600.0</td>\n",
              "      <td>Pave</td>\n",
              "      <td>None</td>\n",
              "      <td>Reg</td>\n",
              "      <td>Lvl</td>\n",
              "      <td>AllPub</td>\n",
              "      <td>...</td>\n",
              "      <td>0.0</td>\n",
              "      <td>None</td>\n",
              "      <td>None</td>\n",
              "      <td>None</td>\n",
              "      <td>0.0</td>\n",
              "      <td>5.0</td>\n",
              "      <td>2007.0</td>\n",
              "      <td>WD</td>\n",
              "      <td>Normal</td>\n",
              "      <td>181500.0</td>\n",
              "    </tr>\n",
              "    <tr>\n",
              "      <th>2</th>\n",
              "      <td>3.0</td>\n",
              "      <td>60.0</td>\n",
              "      <td>RL</td>\n",
              "      <td>68.0</td>\n",
              "      <td>11250.0</td>\n",
              "      <td>Pave</td>\n",
              "      <td>None</td>\n",
              "      <td>IR1</td>\n",
              "      <td>Lvl</td>\n",
              "      <td>AllPub</td>\n",
              "      <td>...</td>\n",
              "      <td>0.0</td>\n",
              "      <td>None</td>\n",
              "      <td>None</td>\n",
              "      <td>None</td>\n",
              "      <td>0.0</td>\n",
              "      <td>9.0</td>\n",
              "      <td>2008.0</td>\n",
              "      <td>WD</td>\n",
              "      <td>Normal</td>\n",
              "      <td>223500.0</td>\n",
              "    </tr>\n",
              "    <tr>\n",
              "      <th>3</th>\n",
              "      <td>4.0</td>\n",
              "      <td>70.0</td>\n",
              "      <td>RL</td>\n",
              "      <td>60.0</td>\n",
              "      <td>9550.0</td>\n",
              "      <td>Pave</td>\n",
              "      <td>None</td>\n",
              "      <td>IR1</td>\n",
              "      <td>Lvl</td>\n",
              "      <td>AllPub</td>\n",
              "      <td>...</td>\n",
              "      <td>0.0</td>\n",
              "      <td>None</td>\n",
              "      <td>None</td>\n",
              "      <td>None</td>\n",
              "      <td>0.0</td>\n",
              "      <td>2.0</td>\n",
              "      <td>2006.0</td>\n",
              "      <td>WD</td>\n",
              "      <td>Abnorml</td>\n",
              "      <td>140000.0</td>\n",
              "    </tr>\n",
              "    <tr>\n",
              "      <th>4</th>\n",
              "      <td>5.0</td>\n",
              "      <td>60.0</td>\n",
              "      <td>RL</td>\n",
              "      <td>84.0</td>\n",
              "      <td>14260.0</td>\n",
              "      <td>Pave</td>\n",
              "      <td>None</td>\n",
              "      <td>IR1</td>\n",
              "      <td>Lvl</td>\n",
              "      <td>AllPub</td>\n",
              "      <td>...</td>\n",
              "      <td>0.0</td>\n",
              "      <td>None</td>\n",
              "      <td>None</td>\n",
              "      <td>None</td>\n",
              "      <td>0.0</td>\n",
              "      <td>12.0</td>\n",
              "      <td>2008.0</td>\n",
              "      <td>WD</td>\n",
              "      <td>Normal</td>\n",
              "      <td>250000.0</td>\n",
              "    </tr>\n",
              "  </tbody>\n",
              "</table>\n",
              "<p>5 rows × 81 columns</p>\n",
              "</div>\n",
              "      <button class=\"colab-df-convert\" onclick=\"convertToInteractive('df-ae18a4f2-7c11-45ae-89f9-43a1aebe0e97')\"\n",
              "              title=\"Convert this dataframe to an interactive table.\"\n",
              "              style=\"display:none;\">\n",
              "        \n",
              "  <svg xmlns=\"http://www.w3.org/2000/svg\" height=\"24px\"viewBox=\"0 0 24 24\"\n",
              "       width=\"24px\">\n",
              "    <path d=\"M0 0h24v24H0V0z\" fill=\"none\"/>\n",
              "    <path d=\"M18.56 5.44l.94 2.06.94-2.06 2.06-.94-2.06-.94-.94-2.06-.94 2.06-2.06.94zm-11 1L8.5 8.5l.94-2.06 2.06-.94-2.06-.94L8.5 2.5l-.94 2.06-2.06.94zm10 10l.94 2.06.94-2.06 2.06-.94-2.06-.94-.94-2.06-.94 2.06-2.06.94z\"/><path d=\"M17.41 7.96l-1.37-1.37c-.4-.4-.92-.59-1.43-.59-.52 0-1.04.2-1.43.59L10.3 9.45l-7.72 7.72c-.78.78-.78 2.05 0 2.83L4 21.41c.39.39.9.59 1.41.59.51 0 1.02-.2 1.41-.59l7.78-7.78 2.81-2.81c.8-.78.8-2.07 0-2.86zM5.41 20L4 18.59l7.72-7.72 1.47 1.35L5.41 20z\"/>\n",
              "  </svg>\n",
              "      </button>\n",
              "      \n",
              "  <style>\n",
              "    .colab-df-container {\n",
              "      display:flex;\n",
              "      flex-wrap:wrap;\n",
              "      gap: 12px;\n",
              "    }\n",
              "\n",
              "    .colab-df-convert {\n",
              "      background-color: #E8F0FE;\n",
              "      border: none;\n",
              "      border-radius: 50%;\n",
              "      cursor: pointer;\n",
              "      display: none;\n",
              "      fill: #1967D2;\n",
              "      height: 32px;\n",
              "      padding: 0 0 0 0;\n",
              "      width: 32px;\n",
              "    }\n",
              "\n",
              "    .colab-df-convert:hover {\n",
              "      background-color: #E2EBFA;\n",
              "      box-shadow: 0px 1px 2px rgba(60, 64, 67, 0.3), 0px 1px 3px 1px rgba(60, 64, 67, 0.15);\n",
              "      fill: #174EA6;\n",
              "    }\n",
              "\n",
              "    [theme=dark] .colab-df-convert {\n",
              "      background-color: #3B4455;\n",
              "      fill: #D2E3FC;\n",
              "    }\n",
              "\n",
              "    [theme=dark] .colab-df-convert:hover {\n",
              "      background-color: #434B5C;\n",
              "      box-shadow: 0px 1px 3px 1px rgba(0, 0, 0, 0.15);\n",
              "      filter: drop-shadow(0px 1px 2px rgba(0, 0, 0, 0.3));\n",
              "      fill: #FFFFFF;\n",
              "    }\n",
              "  </style>\n",
              "\n",
              "      <script>\n",
              "        const buttonEl =\n",
              "          document.querySelector('#df-ae18a4f2-7c11-45ae-89f9-43a1aebe0e97 button.colab-df-convert');\n",
              "        buttonEl.style.display =\n",
              "          google.colab.kernel.accessAllowed ? 'block' : 'none';\n",
              "\n",
              "        async function convertToInteractive(key) {\n",
              "          const element = document.querySelector('#df-ae18a4f2-7c11-45ae-89f9-43a1aebe0e97');\n",
              "          const dataTable =\n",
              "            await google.colab.kernel.invokeFunction('convertToInteractive',\n",
              "                                                     [key], {});\n",
              "          if (!dataTable) return;\n",
              "\n",
              "          const docLinkHtml = 'Like what you see? Visit the ' +\n",
              "            '<a target=\"_blank\" href=https://colab.research.google.com/notebooks/data_table.ipynb>data table notebook</a>'\n",
              "            + ' to learn more about interactive tables.';\n",
              "          element.innerHTML = '';\n",
              "          dataTable['output_type'] = 'display_data';\n",
              "          await google.colab.output.renderOutput(dataTable, element);\n",
              "          const docLink = document.createElement('div');\n",
              "          docLink.innerHTML = docLinkHtml;\n",
              "          element.appendChild(docLink);\n",
              "        }\n",
              "      </script>\n",
              "    </div>\n",
              "  </div>\n",
              "  "
            ],
            "text/plain": [
              "    Id  MSSubClass MSZoning  LotFrontage  LotArea Street Alley LotShape  \\\n",
              "0  1.0        60.0       RL         65.0   8450.0   Pave  None      Reg   \n",
              "1  2.0        20.0       RL         80.0   9600.0   Pave  None      Reg   \n",
              "2  3.0        60.0       RL         68.0  11250.0   Pave  None      IR1   \n",
              "3  4.0        70.0       RL         60.0   9550.0   Pave  None      IR1   \n",
              "4  5.0        60.0       RL         84.0  14260.0   Pave  None      IR1   \n",
              "\n",
              "  LandContour Utilities  ... PoolArea PoolQC Fence MiscFeature MiscVal MoSold  \\\n",
              "0         Lvl    AllPub  ...      0.0   None  None        None     0.0    2.0   \n",
              "1         Lvl    AllPub  ...      0.0   None  None        None     0.0    5.0   \n",
              "2         Lvl    AllPub  ...      0.0   None  None        None     0.0    9.0   \n",
              "3         Lvl    AllPub  ...      0.0   None  None        None     0.0    2.0   \n",
              "4         Lvl    AllPub  ...      0.0   None  None        None     0.0   12.0   \n",
              "\n",
              "   YrSold  SaleType  SaleCondition  SalePrice  \n",
              "0  2008.0        WD         Normal   208500.0  \n",
              "1  2007.0        WD         Normal   181500.0  \n",
              "2  2008.0        WD         Normal   223500.0  \n",
              "3  2006.0        WD        Abnorml   140000.0  \n",
              "4  2008.0        WD         Normal   250000.0  \n",
              "\n",
              "[5 rows x 81 columns]"
            ]
          },
          "execution_count": 4,
          "metadata": {},
          "output_type": "execute_result"
        }
      ],
      "source": [
        "dataframe.head()"
      ]
    },
    {
      "cell_type": "code",
      "execution_count": null,
      "metadata": {
        "colab": {
          "base_uri": "https://localhost:8080/",
          "height": 487
        },
        "id": "v1Z3QPaRMWI1",
        "outputId": "46ca2f65-1558-42be-d683-a447eabbb80f"
      },
      "outputs": [
        {
          "data": {
            "text/html": [
              "\n",
              "  <div id=\"df-92c948df-a4b4-4e15-9a5f-9bdf8c0b435b\">\n",
              "    <div class=\"colab-df-container\">\n",
              "      <div>\n",
              "<style scoped>\n",
              "    .dataframe tbody tr th:only-of-type {\n",
              "        vertical-align: middle;\n",
              "    }\n",
              "\n",
              "    .dataframe tbody tr th {\n",
              "        vertical-align: top;\n",
              "    }\n",
              "\n",
              "    .dataframe thead th {\n",
              "        text-align: right;\n",
              "    }\n",
              "</style>\n",
              "<table border=\"1\" class=\"dataframe\">\n",
              "  <thead>\n",
              "    <tr style=\"text-align: right;\">\n",
              "      <th></th>\n",
              "      <th>Id</th>\n",
              "      <th>MSSubClass</th>\n",
              "      <th>MSZoning</th>\n",
              "      <th>LotFrontage</th>\n",
              "      <th>LotArea</th>\n",
              "      <th>Street</th>\n",
              "      <th>Alley</th>\n",
              "      <th>LotShape</th>\n",
              "      <th>LandContour</th>\n",
              "      <th>Utilities</th>\n",
              "      <th>...</th>\n",
              "      <th>PoolArea</th>\n",
              "      <th>PoolQC</th>\n",
              "      <th>Fence</th>\n",
              "      <th>MiscFeature</th>\n",
              "      <th>MiscVal</th>\n",
              "      <th>MoSold</th>\n",
              "      <th>YrSold</th>\n",
              "      <th>SaleType</th>\n",
              "      <th>SaleCondition</th>\n",
              "      <th>SalePrice</th>\n",
              "    </tr>\n",
              "  </thead>\n",
              "  <tbody>\n",
              "    <tr>\n",
              "      <th>0</th>\n",
              "      <td>1.0</td>\n",
              "      <td>60.0</td>\n",
              "      <td>RL</td>\n",
              "      <td>65.0</td>\n",
              "      <td>8450.0</td>\n",
              "      <td>Pave</td>\n",
              "      <td>None</td>\n",
              "      <td>Reg</td>\n",
              "      <td>Lvl</td>\n",
              "      <td>AllPub</td>\n",
              "      <td>...</td>\n",
              "      <td>0.0</td>\n",
              "      <td>None</td>\n",
              "      <td>None</td>\n",
              "      <td>None</td>\n",
              "      <td>0.0</td>\n",
              "      <td>2.0</td>\n",
              "      <td>2008.0</td>\n",
              "      <td>WD</td>\n",
              "      <td>Normal</td>\n",
              "      <td>208500.0</td>\n",
              "    </tr>\n",
              "    <tr>\n",
              "      <th>1</th>\n",
              "      <td>2.0</td>\n",
              "      <td>20.0</td>\n",
              "      <td>RL</td>\n",
              "      <td>80.0</td>\n",
              "      <td>9600.0</td>\n",
              "      <td>Pave</td>\n",
              "      <td>None</td>\n",
              "      <td>Reg</td>\n",
              "      <td>Lvl</td>\n",
              "      <td>AllPub</td>\n",
              "      <td>...</td>\n",
              "      <td>0.0</td>\n",
              "      <td>None</td>\n",
              "      <td>None</td>\n",
              "      <td>None</td>\n",
              "      <td>0.0</td>\n",
              "      <td>5.0</td>\n",
              "      <td>2007.0</td>\n",
              "      <td>WD</td>\n",
              "      <td>Normal</td>\n",
              "      <td>181500.0</td>\n",
              "    </tr>\n",
              "    <tr>\n",
              "      <th>2</th>\n",
              "      <td>3.0</td>\n",
              "      <td>60.0</td>\n",
              "      <td>RL</td>\n",
              "      <td>68.0</td>\n",
              "      <td>11250.0</td>\n",
              "      <td>Pave</td>\n",
              "      <td>None</td>\n",
              "      <td>IR1</td>\n",
              "      <td>Lvl</td>\n",
              "      <td>AllPub</td>\n",
              "      <td>...</td>\n",
              "      <td>0.0</td>\n",
              "      <td>None</td>\n",
              "      <td>None</td>\n",
              "      <td>None</td>\n",
              "      <td>0.0</td>\n",
              "      <td>9.0</td>\n",
              "      <td>2008.0</td>\n",
              "      <td>WD</td>\n",
              "      <td>Normal</td>\n",
              "      <td>223500.0</td>\n",
              "    </tr>\n",
              "    <tr>\n",
              "      <th>3</th>\n",
              "      <td>4.0</td>\n",
              "      <td>70.0</td>\n",
              "      <td>RL</td>\n",
              "      <td>60.0</td>\n",
              "      <td>9550.0</td>\n",
              "      <td>Pave</td>\n",
              "      <td>None</td>\n",
              "      <td>IR1</td>\n",
              "      <td>Lvl</td>\n",
              "      <td>AllPub</td>\n",
              "      <td>...</td>\n",
              "      <td>0.0</td>\n",
              "      <td>None</td>\n",
              "      <td>None</td>\n",
              "      <td>None</td>\n",
              "      <td>0.0</td>\n",
              "      <td>2.0</td>\n",
              "      <td>2006.0</td>\n",
              "      <td>WD</td>\n",
              "      <td>Abnorml</td>\n",
              "      <td>140000.0</td>\n",
              "    </tr>\n",
              "    <tr>\n",
              "      <th>4</th>\n",
              "      <td>5.0</td>\n",
              "      <td>60.0</td>\n",
              "      <td>RL</td>\n",
              "      <td>84.0</td>\n",
              "      <td>14260.0</td>\n",
              "      <td>Pave</td>\n",
              "      <td>None</td>\n",
              "      <td>IR1</td>\n",
              "      <td>Lvl</td>\n",
              "      <td>AllPub</td>\n",
              "      <td>...</td>\n",
              "      <td>0.0</td>\n",
              "      <td>None</td>\n",
              "      <td>None</td>\n",
              "      <td>None</td>\n",
              "      <td>0.0</td>\n",
              "      <td>12.0</td>\n",
              "      <td>2008.0</td>\n",
              "      <td>WD</td>\n",
              "      <td>Normal</td>\n",
              "      <td>250000.0</td>\n",
              "    </tr>\n",
              "    <tr>\n",
              "      <th>...</th>\n",
              "      <td>...</td>\n",
              "      <td>...</td>\n",
              "      <td>...</td>\n",
              "      <td>...</td>\n",
              "      <td>...</td>\n",
              "      <td>...</td>\n",
              "      <td>...</td>\n",
              "      <td>...</td>\n",
              "      <td>...</td>\n",
              "      <td>...</td>\n",
              "      <td>...</td>\n",
              "      <td>...</td>\n",
              "      <td>...</td>\n",
              "      <td>...</td>\n",
              "      <td>...</td>\n",
              "      <td>...</td>\n",
              "      <td>...</td>\n",
              "      <td>...</td>\n",
              "      <td>...</td>\n",
              "      <td>...</td>\n",
              "      <td>...</td>\n",
              "    </tr>\n",
              "    <tr>\n",
              "      <th>1455</th>\n",
              "      <td>1456.0</td>\n",
              "      <td>60.0</td>\n",
              "      <td>RL</td>\n",
              "      <td>62.0</td>\n",
              "      <td>7917.0</td>\n",
              "      <td>Pave</td>\n",
              "      <td>None</td>\n",
              "      <td>Reg</td>\n",
              "      <td>Lvl</td>\n",
              "      <td>AllPub</td>\n",
              "      <td>...</td>\n",
              "      <td>0.0</td>\n",
              "      <td>None</td>\n",
              "      <td>None</td>\n",
              "      <td>None</td>\n",
              "      <td>0.0</td>\n",
              "      <td>8.0</td>\n",
              "      <td>2007.0</td>\n",
              "      <td>WD</td>\n",
              "      <td>Normal</td>\n",
              "      <td>175000.0</td>\n",
              "    </tr>\n",
              "    <tr>\n",
              "      <th>1456</th>\n",
              "      <td>1457.0</td>\n",
              "      <td>20.0</td>\n",
              "      <td>RL</td>\n",
              "      <td>85.0</td>\n",
              "      <td>13175.0</td>\n",
              "      <td>Pave</td>\n",
              "      <td>None</td>\n",
              "      <td>Reg</td>\n",
              "      <td>Lvl</td>\n",
              "      <td>AllPub</td>\n",
              "      <td>...</td>\n",
              "      <td>0.0</td>\n",
              "      <td>None</td>\n",
              "      <td>MnPrv</td>\n",
              "      <td>None</td>\n",
              "      <td>0.0</td>\n",
              "      <td>2.0</td>\n",
              "      <td>2010.0</td>\n",
              "      <td>WD</td>\n",
              "      <td>Normal</td>\n",
              "      <td>210000.0</td>\n",
              "    </tr>\n",
              "    <tr>\n",
              "      <th>1457</th>\n",
              "      <td>1458.0</td>\n",
              "      <td>70.0</td>\n",
              "      <td>RL</td>\n",
              "      <td>66.0</td>\n",
              "      <td>9042.0</td>\n",
              "      <td>Pave</td>\n",
              "      <td>None</td>\n",
              "      <td>Reg</td>\n",
              "      <td>Lvl</td>\n",
              "      <td>AllPub</td>\n",
              "      <td>...</td>\n",
              "      <td>0.0</td>\n",
              "      <td>None</td>\n",
              "      <td>GdPrv</td>\n",
              "      <td>Shed</td>\n",
              "      <td>2500.0</td>\n",
              "      <td>5.0</td>\n",
              "      <td>2010.0</td>\n",
              "      <td>WD</td>\n",
              "      <td>Normal</td>\n",
              "      <td>266500.0</td>\n",
              "    </tr>\n",
              "    <tr>\n",
              "      <th>1458</th>\n",
              "      <td>1459.0</td>\n",
              "      <td>20.0</td>\n",
              "      <td>RL</td>\n",
              "      <td>68.0</td>\n",
              "      <td>9717.0</td>\n",
              "      <td>Pave</td>\n",
              "      <td>None</td>\n",
              "      <td>Reg</td>\n",
              "      <td>Lvl</td>\n",
              "      <td>AllPub</td>\n",
              "      <td>...</td>\n",
              "      <td>0.0</td>\n",
              "      <td>None</td>\n",
              "      <td>None</td>\n",
              "      <td>None</td>\n",
              "      <td>0.0</td>\n",
              "      <td>4.0</td>\n",
              "      <td>2010.0</td>\n",
              "      <td>WD</td>\n",
              "      <td>Normal</td>\n",
              "      <td>142125.0</td>\n",
              "    </tr>\n",
              "    <tr>\n",
              "      <th>1459</th>\n",
              "      <td>1460.0</td>\n",
              "      <td>20.0</td>\n",
              "      <td>RL</td>\n",
              "      <td>75.0</td>\n",
              "      <td>9937.0</td>\n",
              "      <td>Pave</td>\n",
              "      <td>None</td>\n",
              "      <td>Reg</td>\n",
              "      <td>Lvl</td>\n",
              "      <td>AllPub</td>\n",
              "      <td>...</td>\n",
              "      <td>0.0</td>\n",
              "      <td>None</td>\n",
              "      <td>None</td>\n",
              "      <td>None</td>\n",
              "      <td>0.0</td>\n",
              "      <td>6.0</td>\n",
              "      <td>2008.0</td>\n",
              "      <td>WD</td>\n",
              "      <td>Normal</td>\n",
              "      <td>147500.0</td>\n",
              "    </tr>\n",
              "  </tbody>\n",
              "</table>\n",
              "<p>1460 rows × 81 columns</p>\n",
              "</div>\n",
              "      <button class=\"colab-df-convert\" onclick=\"convertToInteractive('df-92c948df-a4b4-4e15-9a5f-9bdf8c0b435b')\"\n",
              "              title=\"Convert this dataframe to an interactive table.\"\n",
              "              style=\"display:none;\">\n",
              "        \n",
              "  <svg xmlns=\"http://www.w3.org/2000/svg\" height=\"24px\"viewBox=\"0 0 24 24\"\n",
              "       width=\"24px\">\n",
              "    <path d=\"M0 0h24v24H0V0z\" fill=\"none\"/>\n",
              "    <path d=\"M18.56 5.44l.94 2.06.94-2.06 2.06-.94-2.06-.94-.94-2.06-.94 2.06-2.06.94zm-11 1L8.5 8.5l.94-2.06 2.06-.94-2.06-.94L8.5 2.5l-.94 2.06-2.06.94zm10 10l.94 2.06.94-2.06 2.06-.94-2.06-.94-.94-2.06-.94 2.06-2.06.94z\"/><path d=\"M17.41 7.96l-1.37-1.37c-.4-.4-.92-.59-1.43-.59-.52 0-1.04.2-1.43.59L10.3 9.45l-7.72 7.72c-.78.78-.78 2.05 0 2.83L4 21.41c.39.39.9.59 1.41.59.51 0 1.02-.2 1.41-.59l7.78-7.78 2.81-2.81c.8-.78.8-2.07 0-2.86zM5.41 20L4 18.59l7.72-7.72 1.47 1.35L5.41 20z\"/>\n",
              "  </svg>\n",
              "      </button>\n",
              "      \n",
              "  <style>\n",
              "    .colab-df-container {\n",
              "      display:flex;\n",
              "      flex-wrap:wrap;\n",
              "      gap: 12px;\n",
              "    }\n",
              "\n",
              "    .colab-df-convert {\n",
              "      background-color: #E8F0FE;\n",
              "      border: none;\n",
              "      border-radius: 50%;\n",
              "      cursor: pointer;\n",
              "      display: none;\n",
              "      fill: #1967D2;\n",
              "      height: 32px;\n",
              "      padding: 0 0 0 0;\n",
              "      width: 32px;\n",
              "    }\n",
              "\n",
              "    .colab-df-convert:hover {\n",
              "      background-color: #E2EBFA;\n",
              "      box-shadow: 0px 1px 2px rgba(60, 64, 67, 0.3), 0px 1px 3px 1px rgba(60, 64, 67, 0.15);\n",
              "      fill: #174EA6;\n",
              "    }\n",
              "\n",
              "    [theme=dark] .colab-df-convert {\n",
              "      background-color: #3B4455;\n",
              "      fill: #D2E3FC;\n",
              "    }\n",
              "\n",
              "    [theme=dark] .colab-df-convert:hover {\n",
              "      background-color: #434B5C;\n",
              "      box-shadow: 0px 1px 3px 1px rgba(0, 0, 0, 0.15);\n",
              "      filter: drop-shadow(0px 1px 2px rgba(0, 0, 0, 0.3));\n",
              "      fill: #FFFFFF;\n",
              "    }\n",
              "  </style>\n",
              "\n",
              "      <script>\n",
              "        const buttonEl =\n",
              "          document.querySelector('#df-92c948df-a4b4-4e15-9a5f-9bdf8c0b435b button.colab-df-convert');\n",
              "        buttonEl.style.display =\n",
              "          google.colab.kernel.accessAllowed ? 'block' : 'none';\n",
              "\n",
              "        async function convertToInteractive(key) {\n",
              "          const element = document.querySelector('#df-92c948df-a4b4-4e15-9a5f-9bdf8c0b435b');\n",
              "          const dataTable =\n",
              "            await google.colab.kernel.invokeFunction('convertToInteractive',\n",
              "                                                     [key], {});\n",
              "          if (!dataTable) return;\n",
              "\n",
              "          const docLinkHtml = 'Like what you see? Visit the ' +\n",
              "            '<a target=\"_blank\" href=https://colab.research.google.com/notebooks/data_table.ipynb>data table notebook</a>'\n",
              "            + ' to learn more about interactive tables.';\n",
              "          element.innerHTML = '';\n",
              "          dataTable['output_type'] = 'display_data';\n",
              "          await google.colab.output.renderOutput(dataTable, element);\n",
              "          const docLink = document.createElement('div');\n",
              "          docLink.innerHTML = docLinkHtml;\n",
              "          element.appendChild(docLink);\n",
              "        }\n",
              "      </script>\n",
              "    </div>\n",
              "  </div>\n",
              "  "
            ],
            "text/plain": [
              "          Id  MSSubClass MSZoning  LotFrontage  LotArea Street Alley LotShape  \\\n",
              "0        1.0        60.0       RL         65.0   8450.0   Pave  None      Reg   \n",
              "1        2.0        20.0       RL         80.0   9600.0   Pave  None      Reg   \n",
              "2        3.0        60.0       RL         68.0  11250.0   Pave  None      IR1   \n",
              "3        4.0        70.0       RL         60.0   9550.0   Pave  None      IR1   \n",
              "4        5.0        60.0       RL         84.0  14260.0   Pave  None      IR1   \n",
              "...      ...         ...      ...          ...      ...    ...   ...      ...   \n",
              "1455  1456.0        60.0       RL         62.0   7917.0   Pave  None      Reg   \n",
              "1456  1457.0        20.0       RL         85.0  13175.0   Pave  None      Reg   \n",
              "1457  1458.0        70.0       RL         66.0   9042.0   Pave  None      Reg   \n",
              "1458  1459.0        20.0       RL         68.0   9717.0   Pave  None      Reg   \n",
              "1459  1460.0        20.0       RL         75.0   9937.0   Pave  None      Reg   \n",
              "\n",
              "     LandContour Utilities  ... PoolArea PoolQC  Fence MiscFeature MiscVal  \\\n",
              "0            Lvl    AllPub  ...      0.0   None   None        None     0.0   \n",
              "1            Lvl    AllPub  ...      0.0   None   None        None     0.0   \n",
              "2            Lvl    AllPub  ...      0.0   None   None        None     0.0   \n",
              "3            Lvl    AllPub  ...      0.0   None   None        None     0.0   \n",
              "4            Lvl    AllPub  ...      0.0   None   None        None     0.0   \n",
              "...          ...       ...  ...      ...    ...    ...         ...     ...   \n",
              "1455         Lvl    AllPub  ...      0.0   None   None        None     0.0   \n",
              "1456         Lvl    AllPub  ...      0.0   None  MnPrv        None     0.0   \n",
              "1457         Lvl    AllPub  ...      0.0   None  GdPrv        Shed  2500.0   \n",
              "1458         Lvl    AllPub  ...      0.0   None   None        None     0.0   \n",
              "1459         Lvl    AllPub  ...      0.0   None   None        None     0.0   \n",
              "\n",
              "     MoSold  YrSold  SaleType  SaleCondition  SalePrice  \n",
              "0       2.0  2008.0        WD         Normal   208500.0  \n",
              "1       5.0  2007.0        WD         Normal   181500.0  \n",
              "2       9.0  2008.0        WD         Normal   223500.0  \n",
              "3       2.0  2006.0        WD        Abnorml   140000.0  \n",
              "4      12.0  2008.0        WD         Normal   250000.0  \n",
              "...     ...     ...       ...            ...        ...  \n",
              "1455    8.0  2007.0        WD         Normal   175000.0  \n",
              "1456    2.0  2010.0        WD         Normal   210000.0  \n",
              "1457    5.0  2010.0        WD         Normal   266500.0  \n",
              "1458    4.0  2010.0        WD         Normal   142125.0  \n",
              "1459    6.0  2008.0        WD         Normal   147500.0  \n",
              "\n",
              "[1460 rows x 81 columns]"
            ]
          },
          "execution_count": 5,
          "metadata": {},
          "output_type": "execute_result"
        }
      ],
      "source": [
        "dataframe"
      ]
    },
    {
      "cell_type": "markdown",
      "metadata": {
        "id": "f38jTQOLLFXL"
      },
      "source": [
        "Необходимо удостовериться в имеющихся типах данных и привести типы данных к одному из понятных в случае, если встретим тип **object**"
      ]
    },
    {
      "cell_type": "code",
      "execution_count": null,
      "metadata": {
        "colab": {
          "base_uri": "https://localhost:8080/"
        },
        "id": "Os49ycYhLGEW",
        "outputId": "d85c3825-b22a-44ff-b394-e7582645ea9b"
      },
      "outputs": [
        {
          "data": {
            "text/plain": [
              "Id               float64\n",
              "MSSubClass       float64\n",
              "MSZoning          object\n",
              "LotFrontage      float64\n",
              "LotArea          float64\n",
              "                  ...   \n",
              "MoSold           float64\n",
              "YrSold           float64\n",
              "SaleType          object\n",
              "SaleCondition     object\n",
              "SalePrice        float64\n",
              "Length: 81, dtype: object"
            ]
          },
          "execution_count": 6,
          "metadata": {},
          "output_type": "execute_result"
        }
      ],
      "source": [
        "dataframe.dtypes"
      ]
    },
    {
      "cell_type": "code",
      "execution_count": null,
      "metadata": {
        "colab": {
          "base_uri": "https://localhost:8080/"
        },
        "id": "Xu6XJeGTk2HA",
        "outputId": "c5da9a73-5c98-49e9-dcb9-176046a8ffef"
      },
      "outputs": [
        {
          "data": {
            "text/plain": [
              "Id                float64\n",
              "MSSubClass        float64\n",
              "MSZoning         category\n",
              "LotFrontage       float64\n",
              "LotArea           float64\n",
              "                   ...   \n",
              "MoSold            float64\n",
              "YrSold            float64\n",
              "SaleType         category\n",
              "SaleCondition    category\n",
              "SalePrice         float64\n",
              "Length: 81, dtype: object"
            ]
          },
          "execution_count": 7,
          "metadata": {},
          "output_type": "execute_result"
        }
      ],
      "source": [
        "# Определим имена столбцов, тип данных которых object\n",
        "objects_names = dataframe.axes[1][dataframe.dtypes == object]\n",
        "\n",
        "# Приведем столбцы (переменные) на позициях к типу данных категорий\n",
        "dataframe[objects_names] = dataframe[objects_names].astype('category')\n",
        "\n",
        "dataframe.dtypes"
      ]
    },
    {
      "cell_type": "markdown",
      "metadata": {
        "id": "lSHJdVioLl5G"
      },
      "source": [
        "Попробуем осмотреть таблицу описательных статистик с целью:\n",
        "\n",
        "1. Определить какие столбцы являются столбцами с числовыми данными\n",
        "2. Просмотреть описательные статистики на наличие аномалий в столбцах\n",
        "\n",
        "Находим пропуски значений в столбце **LotFrontage** и **MasVnrArea**. Необходимо также удостовериться в отсутствии пропусков в других столбцах более точными способами"
      ]
    },
    {
      "cell_type": "code",
      "execution_count": null,
      "metadata": {
        "colab": {
          "base_uri": "https://localhost:8080/",
          "height": 393
        },
        "id": "8JmaXsQ4JxAx",
        "outputId": "3460312d-f6a9-42b1-9d79-18349ad606f2"
      },
      "outputs": [
        {
          "data": {
            "text/html": [
              "\n",
              "  <div id=\"df-c1fd3f1d-188c-4091-bbbc-445aee92c230\">\n",
              "    <div class=\"colab-df-container\">\n",
              "      <div>\n",
              "<style scoped>\n",
              "    .dataframe tbody tr th:only-of-type {\n",
              "        vertical-align: middle;\n",
              "    }\n",
              "\n",
              "    .dataframe tbody tr th {\n",
              "        vertical-align: top;\n",
              "    }\n",
              "\n",
              "    .dataframe thead th {\n",
              "        text-align: right;\n",
              "    }\n",
              "</style>\n",
              "<table border=\"1\" class=\"dataframe\">\n",
              "  <thead>\n",
              "    <tr style=\"text-align: right;\">\n",
              "      <th></th>\n",
              "      <th>Id</th>\n",
              "      <th>MSSubClass</th>\n",
              "      <th>LotFrontage</th>\n",
              "      <th>LotArea</th>\n",
              "      <th>OverallQual</th>\n",
              "      <th>OverallCond</th>\n",
              "      <th>YearBuilt</th>\n",
              "      <th>YearRemodAdd</th>\n",
              "      <th>MasVnrArea</th>\n",
              "      <th>BsmtFinSF1</th>\n",
              "      <th>...</th>\n",
              "      <th>WoodDeckSF</th>\n",
              "      <th>OpenPorchSF</th>\n",
              "      <th>EnclosedPorch</th>\n",
              "      <th>3SsnPorch</th>\n",
              "      <th>ScreenPorch</th>\n",
              "      <th>PoolArea</th>\n",
              "      <th>MiscVal</th>\n",
              "      <th>MoSold</th>\n",
              "      <th>YrSold</th>\n",
              "      <th>SalePrice</th>\n",
              "    </tr>\n",
              "  </thead>\n",
              "  <tbody>\n",
              "    <tr>\n",
              "      <th>count</th>\n",
              "      <td>1460.000000</td>\n",
              "      <td>1460.000000</td>\n",
              "      <td>1201.000000</td>\n",
              "      <td>1460.000000</td>\n",
              "      <td>1460.000000</td>\n",
              "      <td>1460.000000</td>\n",
              "      <td>1460.000000</td>\n",
              "      <td>1460.000000</td>\n",
              "      <td>1452.000000</td>\n",
              "      <td>1460.000000</td>\n",
              "      <td>...</td>\n",
              "      <td>1460.000000</td>\n",
              "      <td>1460.000000</td>\n",
              "      <td>1460.000000</td>\n",
              "      <td>1460.000000</td>\n",
              "      <td>1460.000000</td>\n",
              "      <td>1460.000000</td>\n",
              "      <td>1460.000000</td>\n",
              "      <td>1460.000000</td>\n",
              "      <td>1460.000000</td>\n",
              "      <td>1460.000000</td>\n",
              "    </tr>\n",
              "    <tr>\n",
              "      <th>mean</th>\n",
              "      <td>730.500000</td>\n",
              "      <td>56.897260</td>\n",
              "      <td>70.049958</td>\n",
              "      <td>10516.828082</td>\n",
              "      <td>6.099315</td>\n",
              "      <td>5.575342</td>\n",
              "      <td>1971.267808</td>\n",
              "      <td>1984.865753</td>\n",
              "      <td>103.685262</td>\n",
              "      <td>443.639726</td>\n",
              "      <td>...</td>\n",
              "      <td>94.244521</td>\n",
              "      <td>46.660274</td>\n",
              "      <td>21.954110</td>\n",
              "      <td>3.409589</td>\n",
              "      <td>15.060959</td>\n",
              "      <td>2.758904</td>\n",
              "      <td>43.489041</td>\n",
              "      <td>6.321918</td>\n",
              "      <td>2007.815753</td>\n",
              "      <td>180921.195890</td>\n",
              "    </tr>\n",
              "    <tr>\n",
              "      <th>std</th>\n",
              "      <td>421.610009</td>\n",
              "      <td>42.300571</td>\n",
              "      <td>24.284752</td>\n",
              "      <td>9981.264932</td>\n",
              "      <td>1.382997</td>\n",
              "      <td>1.112799</td>\n",
              "      <td>30.202904</td>\n",
              "      <td>20.645407</td>\n",
              "      <td>181.066207</td>\n",
              "      <td>456.098091</td>\n",
              "      <td>...</td>\n",
              "      <td>125.338794</td>\n",
              "      <td>66.256028</td>\n",
              "      <td>61.119149</td>\n",
              "      <td>29.317331</td>\n",
              "      <td>55.757415</td>\n",
              "      <td>40.177307</td>\n",
              "      <td>496.123024</td>\n",
              "      <td>2.703626</td>\n",
              "      <td>1.328095</td>\n",
              "      <td>79442.502883</td>\n",
              "    </tr>\n",
              "    <tr>\n",
              "      <th>min</th>\n",
              "      <td>1.000000</td>\n",
              "      <td>20.000000</td>\n",
              "      <td>21.000000</td>\n",
              "      <td>1300.000000</td>\n",
              "      <td>1.000000</td>\n",
              "      <td>1.000000</td>\n",
              "      <td>1872.000000</td>\n",
              "      <td>1950.000000</td>\n",
              "      <td>0.000000</td>\n",
              "      <td>0.000000</td>\n",
              "      <td>...</td>\n",
              "      <td>0.000000</td>\n",
              "      <td>0.000000</td>\n",
              "      <td>0.000000</td>\n",
              "      <td>0.000000</td>\n",
              "      <td>0.000000</td>\n",
              "      <td>0.000000</td>\n",
              "      <td>0.000000</td>\n",
              "      <td>1.000000</td>\n",
              "      <td>2006.000000</td>\n",
              "      <td>34900.000000</td>\n",
              "    </tr>\n",
              "    <tr>\n",
              "      <th>25%</th>\n",
              "      <td>365.750000</td>\n",
              "      <td>20.000000</td>\n",
              "      <td>59.000000</td>\n",
              "      <td>7553.500000</td>\n",
              "      <td>5.000000</td>\n",
              "      <td>5.000000</td>\n",
              "      <td>1954.000000</td>\n",
              "      <td>1967.000000</td>\n",
              "      <td>0.000000</td>\n",
              "      <td>0.000000</td>\n",
              "      <td>...</td>\n",
              "      <td>0.000000</td>\n",
              "      <td>0.000000</td>\n",
              "      <td>0.000000</td>\n",
              "      <td>0.000000</td>\n",
              "      <td>0.000000</td>\n",
              "      <td>0.000000</td>\n",
              "      <td>0.000000</td>\n",
              "      <td>5.000000</td>\n",
              "      <td>2007.000000</td>\n",
              "      <td>129975.000000</td>\n",
              "    </tr>\n",
              "    <tr>\n",
              "      <th>50%</th>\n",
              "      <td>730.500000</td>\n",
              "      <td>50.000000</td>\n",
              "      <td>69.000000</td>\n",
              "      <td>9478.500000</td>\n",
              "      <td>6.000000</td>\n",
              "      <td>5.000000</td>\n",
              "      <td>1973.000000</td>\n",
              "      <td>1994.000000</td>\n",
              "      <td>0.000000</td>\n",
              "      <td>383.500000</td>\n",
              "      <td>...</td>\n",
              "      <td>0.000000</td>\n",
              "      <td>25.000000</td>\n",
              "      <td>0.000000</td>\n",
              "      <td>0.000000</td>\n",
              "      <td>0.000000</td>\n",
              "      <td>0.000000</td>\n",
              "      <td>0.000000</td>\n",
              "      <td>6.000000</td>\n",
              "      <td>2008.000000</td>\n",
              "      <td>163000.000000</td>\n",
              "    </tr>\n",
              "    <tr>\n",
              "      <th>75%</th>\n",
              "      <td>1095.250000</td>\n",
              "      <td>70.000000</td>\n",
              "      <td>80.000000</td>\n",
              "      <td>11601.500000</td>\n",
              "      <td>7.000000</td>\n",
              "      <td>6.000000</td>\n",
              "      <td>2000.000000</td>\n",
              "      <td>2004.000000</td>\n",
              "      <td>166.000000</td>\n",
              "      <td>712.250000</td>\n",
              "      <td>...</td>\n",
              "      <td>168.000000</td>\n",
              "      <td>68.000000</td>\n",
              "      <td>0.000000</td>\n",
              "      <td>0.000000</td>\n",
              "      <td>0.000000</td>\n",
              "      <td>0.000000</td>\n",
              "      <td>0.000000</td>\n",
              "      <td>8.000000</td>\n",
              "      <td>2009.000000</td>\n",
              "      <td>214000.000000</td>\n",
              "    </tr>\n",
              "    <tr>\n",
              "      <th>max</th>\n",
              "      <td>1460.000000</td>\n",
              "      <td>190.000000</td>\n",
              "      <td>313.000000</td>\n",
              "      <td>215245.000000</td>\n",
              "      <td>10.000000</td>\n",
              "      <td>9.000000</td>\n",
              "      <td>2010.000000</td>\n",
              "      <td>2010.000000</td>\n",
              "      <td>1600.000000</td>\n",
              "      <td>5644.000000</td>\n",
              "      <td>...</td>\n",
              "      <td>857.000000</td>\n",
              "      <td>547.000000</td>\n",
              "      <td>552.000000</td>\n",
              "      <td>508.000000</td>\n",
              "      <td>480.000000</td>\n",
              "      <td>738.000000</td>\n",
              "      <td>15500.000000</td>\n",
              "      <td>12.000000</td>\n",
              "      <td>2010.000000</td>\n",
              "      <td>755000.000000</td>\n",
              "    </tr>\n",
              "  </tbody>\n",
              "</table>\n",
              "<p>8 rows × 38 columns</p>\n",
              "</div>\n",
              "      <button class=\"colab-df-convert\" onclick=\"convertToInteractive('df-c1fd3f1d-188c-4091-bbbc-445aee92c230')\"\n",
              "              title=\"Convert this dataframe to an interactive table.\"\n",
              "              style=\"display:none;\">\n",
              "        \n",
              "  <svg xmlns=\"http://www.w3.org/2000/svg\" height=\"24px\"viewBox=\"0 0 24 24\"\n",
              "       width=\"24px\">\n",
              "    <path d=\"M0 0h24v24H0V0z\" fill=\"none\"/>\n",
              "    <path d=\"M18.56 5.44l.94 2.06.94-2.06 2.06-.94-2.06-.94-.94-2.06-.94 2.06-2.06.94zm-11 1L8.5 8.5l.94-2.06 2.06-.94-2.06-.94L8.5 2.5l-.94 2.06-2.06.94zm10 10l.94 2.06.94-2.06 2.06-.94-2.06-.94-.94-2.06-.94 2.06-2.06.94z\"/><path d=\"M17.41 7.96l-1.37-1.37c-.4-.4-.92-.59-1.43-.59-.52 0-1.04.2-1.43.59L10.3 9.45l-7.72 7.72c-.78.78-.78 2.05 0 2.83L4 21.41c.39.39.9.59 1.41.59.51 0 1.02-.2 1.41-.59l7.78-7.78 2.81-2.81c.8-.78.8-2.07 0-2.86zM5.41 20L4 18.59l7.72-7.72 1.47 1.35L5.41 20z\"/>\n",
              "  </svg>\n",
              "      </button>\n",
              "      \n",
              "  <style>\n",
              "    .colab-df-container {\n",
              "      display:flex;\n",
              "      flex-wrap:wrap;\n",
              "      gap: 12px;\n",
              "    }\n",
              "\n",
              "    .colab-df-convert {\n",
              "      background-color: #E8F0FE;\n",
              "      border: none;\n",
              "      border-radius: 50%;\n",
              "      cursor: pointer;\n",
              "      display: none;\n",
              "      fill: #1967D2;\n",
              "      height: 32px;\n",
              "      padding: 0 0 0 0;\n",
              "      width: 32px;\n",
              "    }\n",
              "\n",
              "    .colab-df-convert:hover {\n",
              "      background-color: #E2EBFA;\n",
              "      box-shadow: 0px 1px 2px rgba(60, 64, 67, 0.3), 0px 1px 3px 1px rgba(60, 64, 67, 0.15);\n",
              "      fill: #174EA6;\n",
              "    }\n",
              "\n",
              "    [theme=dark] .colab-df-convert {\n",
              "      background-color: #3B4455;\n",
              "      fill: #D2E3FC;\n",
              "    }\n",
              "\n",
              "    [theme=dark] .colab-df-convert:hover {\n",
              "      background-color: #434B5C;\n",
              "      box-shadow: 0px 1px 3px 1px rgba(0, 0, 0, 0.15);\n",
              "      filter: drop-shadow(0px 1px 2px rgba(0, 0, 0, 0.3));\n",
              "      fill: #FFFFFF;\n",
              "    }\n",
              "  </style>\n",
              "\n",
              "      <script>\n",
              "        const buttonEl =\n",
              "          document.querySelector('#df-c1fd3f1d-188c-4091-bbbc-445aee92c230 button.colab-df-convert');\n",
              "        buttonEl.style.display =\n",
              "          google.colab.kernel.accessAllowed ? 'block' : 'none';\n",
              "\n",
              "        async function convertToInteractive(key) {\n",
              "          const element = document.querySelector('#df-c1fd3f1d-188c-4091-bbbc-445aee92c230');\n",
              "          const dataTable =\n",
              "            await google.colab.kernel.invokeFunction('convertToInteractive',\n",
              "                                                     [key], {});\n",
              "          if (!dataTable) return;\n",
              "\n",
              "          const docLinkHtml = 'Like what you see? Visit the ' +\n",
              "            '<a target=\"_blank\" href=https://colab.research.google.com/notebooks/data_table.ipynb>data table notebook</a>'\n",
              "            + ' to learn more about interactive tables.';\n",
              "          element.innerHTML = '';\n",
              "          dataTable['output_type'] = 'display_data';\n",
              "          await google.colab.output.renderOutput(dataTable, element);\n",
              "          const docLink = document.createElement('div');\n",
              "          docLink.innerHTML = docLinkHtml;\n",
              "          element.appendChild(docLink);\n",
              "        }\n",
              "      </script>\n",
              "    </div>\n",
              "  </div>\n",
              "  "
            ],
            "text/plain": [
              "                Id   MSSubClass  LotFrontage        LotArea  OverallQual  \\\n",
              "count  1460.000000  1460.000000  1201.000000    1460.000000  1460.000000   \n",
              "mean    730.500000    56.897260    70.049958   10516.828082     6.099315   \n",
              "std     421.610009    42.300571    24.284752    9981.264932     1.382997   \n",
              "min       1.000000    20.000000    21.000000    1300.000000     1.000000   \n",
              "25%     365.750000    20.000000    59.000000    7553.500000     5.000000   \n",
              "50%     730.500000    50.000000    69.000000    9478.500000     6.000000   \n",
              "75%    1095.250000    70.000000    80.000000   11601.500000     7.000000   \n",
              "max    1460.000000   190.000000   313.000000  215245.000000    10.000000   \n",
              "\n",
              "       OverallCond    YearBuilt  YearRemodAdd   MasVnrArea   BsmtFinSF1  ...  \\\n",
              "count  1460.000000  1460.000000   1460.000000  1452.000000  1460.000000  ...   \n",
              "mean      5.575342  1971.267808   1984.865753   103.685262   443.639726  ...   \n",
              "std       1.112799    30.202904     20.645407   181.066207   456.098091  ...   \n",
              "min       1.000000  1872.000000   1950.000000     0.000000     0.000000  ...   \n",
              "25%       5.000000  1954.000000   1967.000000     0.000000     0.000000  ...   \n",
              "50%       5.000000  1973.000000   1994.000000     0.000000   383.500000  ...   \n",
              "75%       6.000000  2000.000000   2004.000000   166.000000   712.250000  ...   \n",
              "max       9.000000  2010.000000   2010.000000  1600.000000  5644.000000  ...   \n",
              "\n",
              "        WoodDeckSF  OpenPorchSF  EnclosedPorch    3SsnPorch  ScreenPorch  \\\n",
              "count  1460.000000  1460.000000    1460.000000  1460.000000  1460.000000   \n",
              "mean     94.244521    46.660274      21.954110     3.409589    15.060959   \n",
              "std     125.338794    66.256028      61.119149    29.317331    55.757415   \n",
              "min       0.000000     0.000000       0.000000     0.000000     0.000000   \n",
              "25%       0.000000     0.000000       0.000000     0.000000     0.000000   \n",
              "50%       0.000000    25.000000       0.000000     0.000000     0.000000   \n",
              "75%     168.000000    68.000000       0.000000     0.000000     0.000000   \n",
              "max     857.000000   547.000000     552.000000   508.000000   480.000000   \n",
              "\n",
              "          PoolArea       MiscVal       MoSold       YrSold      SalePrice  \n",
              "count  1460.000000   1460.000000  1460.000000  1460.000000    1460.000000  \n",
              "mean      2.758904     43.489041     6.321918  2007.815753  180921.195890  \n",
              "std      40.177307    496.123024     2.703626     1.328095   79442.502883  \n",
              "min       0.000000      0.000000     1.000000  2006.000000   34900.000000  \n",
              "25%       0.000000      0.000000     5.000000  2007.000000  129975.000000  \n",
              "50%       0.000000      0.000000     6.000000  2008.000000  163000.000000  \n",
              "75%       0.000000      0.000000     8.000000  2009.000000  214000.000000  \n",
              "max     738.000000  15500.000000    12.000000  2010.000000  755000.000000  \n",
              "\n",
              "[8 rows x 38 columns]"
            ]
          },
          "execution_count": 8,
          "metadata": {},
          "output_type": "execute_result"
        }
      ],
      "source": [
        "dataframe.describe()"
      ]
    },
    {
      "cell_type": "markdown",
      "metadata": {
        "id": "mf_910V4K7O8"
      },
      "source": [
        "Нехитрым способом приведения результата к числовому массиву можно посмотреть чему равно количество пропущенных значений для каждого столбца таблицы данных по порядку"
      ]
    },
    {
      "cell_type": "code",
      "execution_count": null,
      "metadata": {
        "colab": {
          "base_uri": "https://localhost:8080/",
          "height": 487
        },
        "id": "u9qBuwqjOSqC",
        "outputId": "08b10480-d1d8-485c-df3c-0b23ff0f5ec6"
      },
      "outputs": [
        {
          "data": {
            "text/html": [
              "\n",
              "  <div id=\"df-7d7e0e10-bd98-4f48-b41d-c5085575f73b\">\n",
              "    <div class=\"colab-df-container\">\n",
              "      <div>\n",
              "<style scoped>\n",
              "    .dataframe tbody tr th:only-of-type {\n",
              "        vertical-align: middle;\n",
              "    }\n",
              "\n",
              "    .dataframe tbody tr th {\n",
              "        vertical-align: top;\n",
              "    }\n",
              "\n",
              "    .dataframe thead th {\n",
              "        text-align: right;\n",
              "    }\n",
              "</style>\n",
              "<table border=\"1\" class=\"dataframe\">\n",
              "  <thead>\n",
              "    <tr style=\"text-align: right;\">\n",
              "      <th></th>\n",
              "      <th>Id</th>\n",
              "      <th>MSSubClass</th>\n",
              "      <th>MSZoning</th>\n",
              "      <th>LotFrontage</th>\n",
              "      <th>LotArea</th>\n",
              "      <th>Street</th>\n",
              "      <th>Alley</th>\n",
              "      <th>LotShape</th>\n",
              "      <th>LandContour</th>\n",
              "      <th>Utilities</th>\n",
              "      <th>...</th>\n",
              "      <th>PoolArea</th>\n",
              "      <th>PoolQC</th>\n",
              "      <th>Fence</th>\n",
              "      <th>MiscFeature</th>\n",
              "      <th>MiscVal</th>\n",
              "      <th>MoSold</th>\n",
              "      <th>YrSold</th>\n",
              "      <th>SaleType</th>\n",
              "      <th>SaleCondition</th>\n",
              "      <th>SalePrice</th>\n",
              "    </tr>\n",
              "  </thead>\n",
              "  <tbody>\n",
              "    <tr>\n",
              "      <th>0</th>\n",
              "      <td>False</td>\n",
              "      <td>False</td>\n",
              "      <td>False</td>\n",
              "      <td>False</td>\n",
              "      <td>False</td>\n",
              "      <td>False</td>\n",
              "      <td>True</td>\n",
              "      <td>False</td>\n",
              "      <td>False</td>\n",
              "      <td>False</td>\n",
              "      <td>...</td>\n",
              "      <td>False</td>\n",
              "      <td>True</td>\n",
              "      <td>True</td>\n",
              "      <td>True</td>\n",
              "      <td>False</td>\n",
              "      <td>False</td>\n",
              "      <td>False</td>\n",
              "      <td>False</td>\n",
              "      <td>False</td>\n",
              "      <td>False</td>\n",
              "    </tr>\n",
              "    <tr>\n",
              "      <th>1</th>\n",
              "      <td>False</td>\n",
              "      <td>False</td>\n",
              "      <td>False</td>\n",
              "      <td>False</td>\n",
              "      <td>False</td>\n",
              "      <td>False</td>\n",
              "      <td>True</td>\n",
              "      <td>False</td>\n",
              "      <td>False</td>\n",
              "      <td>False</td>\n",
              "      <td>...</td>\n",
              "      <td>False</td>\n",
              "      <td>True</td>\n",
              "      <td>True</td>\n",
              "      <td>True</td>\n",
              "      <td>False</td>\n",
              "      <td>False</td>\n",
              "      <td>False</td>\n",
              "      <td>False</td>\n",
              "      <td>False</td>\n",
              "      <td>False</td>\n",
              "    </tr>\n",
              "    <tr>\n",
              "      <th>2</th>\n",
              "      <td>False</td>\n",
              "      <td>False</td>\n",
              "      <td>False</td>\n",
              "      <td>False</td>\n",
              "      <td>False</td>\n",
              "      <td>False</td>\n",
              "      <td>True</td>\n",
              "      <td>False</td>\n",
              "      <td>False</td>\n",
              "      <td>False</td>\n",
              "      <td>...</td>\n",
              "      <td>False</td>\n",
              "      <td>True</td>\n",
              "      <td>True</td>\n",
              "      <td>True</td>\n",
              "      <td>False</td>\n",
              "      <td>False</td>\n",
              "      <td>False</td>\n",
              "      <td>False</td>\n",
              "      <td>False</td>\n",
              "      <td>False</td>\n",
              "    </tr>\n",
              "    <tr>\n",
              "      <th>3</th>\n",
              "      <td>False</td>\n",
              "      <td>False</td>\n",
              "      <td>False</td>\n",
              "      <td>False</td>\n",
              "      <td>False</td>\n",
              "      <td>False</td>\n",
              "      <td>True</td>\n",
              "      <td>False</td>\n",
              "      <td>False</td>\n",
              "      <td>False</td>\n",
              "      <td>...</td>\n",
              "      <td>False</td>\n",
              "      <td>True</td>\n",
              "      <td>True</td>\n",
              "      <td>True</td>\n",
              "      <td>False</td>\n",
              "      <td>False</td>\n",
              "      <td>False</td>\n",
              "      <td>False</td>\n",
              "      <td>False</td>\n",
              "      <td>False</td>\n",
              "    </tr>\n",
              "    <tr>\n",
              "      <th>4</th>\n",
              "      <td>False</td>\n",
              "      <td>False</td>\n",
              "      <td>False</td>\n",
              "      <td>False</td>\n",
              "      <td>False</td>\n",
              "      <td>False</td>\n",
              "      <td>True</td>\n",
              "      <td>False</td>\n",
              "      <td>False</td>\n",
              "      <td>False</td>\n",
              "      <td>...</td>\n",
              "      <td>False</td>\n",
              "      <td>True</td>\n",
              "      <td>True</td>\n",
              "      <td>True</td>\n",
              "      <td>False</td>\n",
              "      <td>False</td>\n",
              "      <td>False</td>\n",
              "      <td>False</td>\n",
              "      <td>False</td>\n",
              "      <td>False</td>\n",
              "    </tr>\n",
              "    <tr>\n",
              "      <th>...</th>\n",
              "      <td>...</td>\n",
              "      <td>...</td>\n",
              "      <td>...</td>\n",
              "      <td>...</td>\n",
              "      <td>...</td>\n",
              "      <td>...</td>\n",
              "      <td>...</td>\n",
              "      <td>...</td>\n",
              "      <td>...</td>\n",
              "      <td>...</td>\n",
              "      <td>...</td>\n",
              "      <td>...</td>\n",
              "      <td>...</td>\n",
              "      <td>...</td>\n",
              "      <td>...</td>\n",
              "      <td>...</td>\n",
              "      <td>...</td>\n",
              "      <td>...</td>\n",
              "      <td>...</td>\n",
              "      <td>...</td>\n",
              "      <td>...</td>\n",
              "    </tr>\n",
              "    <tr>\n",
              "      <th>1455</th>\n",
              "      <td>False</td>\n",
              "      <td>False</td>\n",
              "      <td>False</td>\n",
              "      <td>False</td>\n",
              "      <td>False</td>\n",
              "      <td>False</td>\n",
              "      <td>True</td>\n",
              "      <td>False</td>\n",
              "      <td>False</td>\n",
              "      <td>False</td>\n",
              "      <td>...</td>\n",
              "      <td>False</td>\n",
              "      <td>True</td>\n",
              "      <td>True</td>\n",
              "      <td>True</td>\n",
              "      <td>False</td>\n",
              "      <td>False</td>\n",
              "      <td>False</td>\n",
              "      <td>False</td>\n",
              "      <td>False</td>\n",
              "      <td>False</td>\n",
              "    </tr>\n",
              "    <tr>\n",
              "      <th>1456</th>\n",
              "      <td>False</td>\n",
              "      <td>False</td>\n",
              "      <td>False</td>\n",
              "      <td>False</td>\n",
              "      <td>False</td>\n",
              "      <td>False</td>\n",
              "      <td>True</td>\n",
              "      <td>False</td>\n",
              "      <td>False</td>\n",
              "      <td>False</td>\n",
              "      <td>...</td>\n",
              "      <td>False</td>\n",
              "      <td>True</td>\n",
              "      <td>False</td>\n",
              "      <td>True</td>\n",
              "      <td>False</td>\n",
              "      <td>False</td>\n",
              "      <td>False</td>\n",
              "      <td>False</td>\n",
              "      <td>False</td>\n",
              "      <td>False</td>\n",
              "    </tr>\n",
              "    <tr>\n",
              "      <th>1457</th>\n",
              "      <td>False</td>\n",
              "      <td>False</td>\n",
              "      <td>False</td>\n",
              "      <td>False</td>\n",
              "      <td>False</td>\n",
              "      <td>False</td>\n",
              "      <td>True</td>\n",
              "      <td>False</td>\n",
              "      <td>False</td>\n",
              "      <td>False</td>\n",
              "      <td>...</td>\n",
              "      <td>False</td>\n",
              "      <td>True</td>\n",
              "      <td>False</td>\n",
              "      <td>False</td>\n",
              "      <td>False</td>\n",
              "      <td>False</td>\n",
              "      <td>False</td>\n",
              "      <td>False</td>\n",
              "      <td>False</td>\n",
              "      <td>False</td>\n",
              "    </tr>\n",
              "    <tr>\n",
              "      <th>1458</th>\n",
              "      <td>False</td>\n",
              "      <td>False</td>\n",
              "      <td>False</td>\n",
              "      <td>False</td>\n",
              "      <td>False</td>\n",
              "      <td>False</td>\n",
              "      <td>True</td>\n",
              "      <td>False</td>\n",
              "      <td>False</td>\n",
              "      <td>False</td>\n",
              "      <td>...</td>\n",
              "      <td>False</td>\n",
              "      <td>True</td>\n",
              "      <td>True</td>\n",
              "      <td>True</td>\n",
              "      <td>False</td>\n",
              "      <td>False</td>\n",
              "      <td>False</td>\n",
              "      <td>False</td>\n",
              "      <td>False</td>\n",
              "      <td>False</td>\n",
              "    </tr>\n",
              "    <tr>\n",
              "      <th>1459</th>\n",
              "      <td>False</td>\n",
              "      <td>False</td>\n",
              "      <td>False</td>\n",
              "      <td>False</td>\n",
              "      <td>False</td>\n",
              "      <td>False</td>\n",
              "      <td>True</td>\n",
              "      <td>False</td>\n",
              "      <td>False</td>\n",
              "      <td>False</td>\n",
              "      <td>...</td>\n",
              "      <td>False</td>\n",
              "      <td>True</td>\n",
              "      <td>True</td>\n",
              "      <td>True</td>\n",
              "      <td>False</td>\n",
              "      <td>False</td>\n",
              "      <td>False</td>\n",
              "      <td>False</td>\n",
              "      <td>False</td>\n",
              "      <td>False</td>\n",
              "    </tr>\n",
              "  </tbody>\n",
              "</table>\n",
              "<p>1460 rows × 81 columns</p>\n",
              "</div>\n",
              "      <button class=\"colab-df-convert\" onclick=\"convertToInteractive('df-7d7e0e10-bd98-4f48-b41d-c5085575f73b')\"\n",
              "              title=\"Convert this dataframe to an interactive table.\"\n",
              "              style=\"display:none;\">\n",
              "        \n",
              "  <svg xmlns=\"http://www.w3.org/2000/svg\" height=\"24px\"viewBox=\"0 0 24 24\"\n",
              "       width=\"24px\">\n",
              "    <path d=\"M0 0h24v24H0V0z\" fill=\"none\"/>\n",
              "    <path d=\"M18.56 5.44l.94 2.06.94-2.06 2.06-.94-2.06-.94-.94-2.06-.94 2.06-2.06.94zm-11 1L8.5 8.5l.94-2.06 2.06-.94-2.06-.94L8.5 2.5l-.94 2.06-2.06.94zm10 10l.94 2.06.94-2.06 2.06-.94-2.06-.94-.94-2.06-.94 2.06-2.06.94z\"/><path d=\"M17.41 7.96l-1.37-1.37c-.4-.4-.92-.59-1.43-.59-.52 0-1.04.2-1.43.59L10.3 9.45l-7.72 7.72c-.78.78-.78 2.05 0 2.83L4 21.41c.39.39.9.59 1.41.59.51 0 1.02-.2 1.41-.59l7.78-7.78 2.81-2.81c.8-.78.8-2.07 0-2.86zM5.41 20L4 18.59l7.72-7.72 1.47 1.35L5.41 20z\"/>\n",
              "  </svg>\n",
              "      </button>\n",
              "      \n",
              "  <style>\n",
              "    .colab-df-container {\n",
              "      display:flex;\n",
              "      flex-wrap:wrap;\n",
              "      gap: 12px;\n",
              "    }\n",
              "\n",
              "    .colab-df-convert {\n",
              "      background-color: #E8F0FE;\n",
              "      border: none;\n",
              "      border-radius: 50%;\n",
              "      cursor: pointer;\n",
              "      display: none;\n",
              "      fill: #1967D2;\n",
              "      height: 32px;\n",
              "      padding: 0 0 0 0;\n",
              "      width: 32px;\n",
              "    }\n",
              "\n",
              "    .colab-df-convert:hover {\n",
              "      background-color: #E2EBFA;\n",
              "      box-shadow: 0px 1px 2px rgba(60, 64, 67, 0.3), 0px 1px 3px 1px rgba(60, 64, 67, 0.15);\n",
              "      fill: #174EA6;\n",
              "    }\n",
              "\n",
              "    [theme=dark] .colab-df-convert {\n",
              "      background-color: #3B4455;\n",
              "      fill: #D2E3FC;\n",
              "    }\n",
              "\n",
              "    [theme=dark] .colab-df-convert:hover {\n",
              "      background-color: #434B5C;\n",
              "      box-shadow: 0px 1px 3px 1px rgba(0, 0, 0, 0.15);\n",
              "      filter: drop-shadow(0px 1px 2px rgba(0, 0, 0, 0.3));\n",
              "      fill: #FFFFFF;\n",
              "    }\n",
              "  </style>\n",
              "\n",
              "      <script>\n",
              "        const buttonEl =\n",
              "          document.querySelector('#df-7d7e0e10-bd98-4f48-b41d-c5085575f73b button.colab-df-convert');\n",
              "        buttonEl.style.display =\n",
              "          google.colab.kernel.accessAllowed ? 'block' : 'none';\n",
              "\n",
              "        async function convertToInteractive(key) {\n",
              "          const element = document.querySelector('#df-7d7e0e10-bd98-4f48-b41d-c5085575f73b');\n",
              "          const dataTable =\n",
              "            await google.colab.kernel.invokeFunction('convertToInteractive',\n",
              "                                                     [key], {});\n",
              "          if (!dataTable) return;\n",
              "\n",
              "          const docLinkHtml = 'Like what you see? Visit the ' +\n",
              "            '<a target=\"_blank\" href=https://colab.research.google.com/notebooks/data_table.ipynb>data table notebook</a>'\n",
              "            + ' to learn more about interactive tables.';\n",
              "          element.innerHTML = '';\n",
              "          dataTable['output_type'] = 'display_data';\n",
              "          await google.colab.output.renderOutput(dataTable, element);\n",
              "          const docLink = document.createElement('div');\n",
              "          docLink.innerHTML = docLinkHtml;\n",
              "          element.appendChild(docLink);\n",
              "        }\n",
              "      </script>\n",
              "    </div>\n",
              "  </div>\n",
              "  "
            ],
            "text/plain": [
              "         Id  MSSubClass  MSZoning  LotFrontage  LotArea  Street  Alley  \\\n",
              "0     False       False     False        False    False   False   True   \n",
              "1     False       False     False        False    False   False   True   \n",
              "2     False       False     False        False    False   False   True   \n",
              "3     False       False     False        False    False   False   True   \n",
              "4     False       False     False        False    False   False   True   \n",
              "...     ...         ...       ...          ...      ...     ...    ...   \n",
              "1455  False       False     False        False    False   False   True   \n",
              "1456  False       False     False        False    False   False   True   \n",
              "1457  False       False     False        False    False   False   True   \n",
              "1458  False       False     False        False    False   False   True   \n",
              "1459  False       False     False        False    False   False   True   \n",
              "\n",
              "      LotShape  LandContour  Utilities  ...  PoolArea  PoolQC  Fence  \\\n",
              "0        False        False      False  ...     False    True   True   \n",
              "1        False        False      False  ...     False    True   True   \n",
              "2        False        False      False  ...     False    True   True   \n",
              "3        False        False      False  ...     False    True   True   \n",
              "4        False        False      False  ...     False    True   True   \n",
              "...        ...          ...        ...  ...       ...     ...    ...   \n",
              "1455     False        False      False  ...     False    True   True   \n",
              "1456     False        False      False  ...     False    True  False   \n",
              "1457     False        False      False  ...     False    True  False   \n",
              "1458     False        False      False  ...     False    True   True   \n",
              "1459     False        False      False  ...     False    True   True   \n",
              "\n",
              "      MiscFeature  MiscVal  MoSold  YrSold  SaleType  SaleCondition  SalePrice  \n",
              "0            True    False   False   False     False          False      False  \n",
              "1            True    False   False   False     False          False      False  \n",
              "2            True    False   False   False     False          False      False  \n",
              "3            True    False   False   False     False          False      False  \n",
              "4            True    False   False   False     False          False      False  \n",
              "...           ...      ...     ...     ...       ...            ...        ...  \n",
              "1455         True    False   False   False     False          False      False  \n",
              "1456         True    False   False   False     False          False      False  \n",
              "1457        False    False   False   False     False          False      False  \n",
              "1458         True    False   False   False     False          False      False  \n",
              "1459         True    False   False   False     False          False      False  \n",
              "\n",
              "[1460 rows x 81 columns]"
            ]
          },
          "execution_count": 9,
          "metadata": {},
          "output_type": "execute_result"
        }
      ],
      "source": [
        "dataframe.isna()"
      ]
    },
    {
      "cell_type": "code",
      "execution_count": null,
      "metadata": {
        "colab": {
          "base_uri": "https://localhost:8080/"
        },
        "id": "yL0as8xHfiQL",
        "outputId": "69a6c67c-9254-4714-e83b-2cab1e21cb96"
      },
      "outputs": [
        {
          "data": {
            "text/plain": [
              "array([   0,    0,    0,  259,    0,    0, 1369,    0,    0,    0,    0,\n",
              "          0,    0,    0,    0,    0,    0,    0,    0,    0,    0,    0,\n",
              "          0,    0,    0,    8,    8,    0,    0,    0,   37,   37,   38,\n",
              "         37,    0,   38,    0,    0,    0,    0,    0,    0,    1,    0,\n",
              "          0,    0,    0,    0,    0,    0,    0,    0,    0,    0,    0,\n",
              "          0,    0,  690,   81,   81,   81,    0,    0,   81,   81,    0,\n",
              "          0,    0,    0,    0,    0,    0, 1453, 1179, 1406,    0,    0,\n",
              "          0,    0,    0,    0])"
            ]
          },
          "execution_count": 10,
          "metadata": {},
          "output_type": "execute_result"
        }
      ],
      "source": [
        "# Пропуски значений в столбцах таблицы данных\n",
        "np.array(np.sum(dataframe.isna()))"
      ]
    },
    {
      "cell_type": "markdown",
      "metadata": {
        "id": "BqoXdzS8LWU4"
      },
      "source": [
        "В первый раз для демонтрации возможностей модели регрессии мы воспользуемся только числовыми значениями столбцов, поэтому пока очищать пропущенные значения мы не будем\n"
      ]
    },
    {
      "cell_type": "code",
      "execution_count": null,
      "metadata": {
        "colab": {
          "base_uri": "https://localhost:8080/"
        },
        "id": "eJQZvvMsKDie",
        "outputId": "68037e9c-51d2-4741-bc98-161e0834e374"
      },
      "outputs": [
        {
          "data": {
            "text/plain": [
              "Index(['Id', 'MSSubClass', 'LotFrontage', 'LotArea', 'OverallQual',\n",
              "       'OverallCond', 'YearBuilt', 'YearRemodAdd', 'MasVnrArea', 'BsmtFinSF1',\n",
              "       'BsmtFinSF2', 'BsmtUnfSF', 'TotalBsmtSF', '1stFlrSF', '2ndFlrSF',\n",
              "       'LowQualFinSF', 'GrLivArea', 'BsmtFullBath', 'BsmtHalfBath', 'FullBath',\n",
              "       'HalfBath', 'BedroomAbvGr', 'KitchenAbvGr', 'TotRmsAbvGrd',\n",
              "       'Fireplaces', 'GarageYrBlt', 'GarageCars', 'GarageArea', 'WoodDeckSF',\n",
              "       'OpenPorchSF', 'EnclosedPorch', '3SsnPorch', 'ScreenPorch', 'PoolArea',\n",
              "       'MiscVal', 'MoSold', 'YrSold', 'SalePrice'],\n",
              "      dtype='object')"
            ]
          },
          "execution_count": 11,
          "metadata": {},
          "output_type": "execute_result"
        }
      ],
      "source": [
        "# Имена числовых переменных\n",
        "info_real_frame = dataframe.describe()\n",
        "info_real_frame.columns"
      ]
    },
    {
      "cell_type": "code",
      "execution_count": null,
      "metadata": {
        "colab": {
          "base_uri": "https://localhost:8080/"
        },
        "id": "iGC2ldBvKzr5",
        "outputId": "418ed34c-81cb-4f85-ddd9-3174c274ff10"
      },
      "outputs": [
        {
          "name": "stdout",
          "output_type": "stream",
          "text": [
            "               MSSubClass  LotFrontage   LotArea  OverallQual  OverallCond  \\\n",
            "MSSubClass       1.000000    -0.386347 -0.139781     0.032628    -0.059316   \n",
            "LotFrontage     -0.386347     1.000000  0.426095     0.251646    -0.059213   \n",
            "LotArea         -0.139781     0.426095  1.000000     0.105806    -0.005636   \n",
            "OverallQual      0.032628     0.251646  0.105806     1.000000    -0.091932   \n",
            "OverallCond     -0.059316    -0.059213 -0.005636    -0.091932     1.000000   \n",
            "YearBuilt        0.027850     0.123349  0.014228     0.572323    -0.375983   \n",
            "YearRemodAdd     0.040581     0.088866  0.013788     0.550684     0.073741   \n",
            "MasVnrArea       0.022936     0.193458  0.104160     0.411876    -0.128101   \n",
            "BsmtFinSF1      -0.069836     0.233633  0.214103     0.239666    -0.046231   \n",
            "BsmtFinSF2      -0.065649     0.049900  0.111170    -0.059119     0.040229   \n",
            "BsmtUnfSF       -0.140759     0.132644 -0.002618     0.308159    -0.136841   \n",
            "TotalBsmtSF     -0.238518     0.392075  0.260833     0.537808    -0.171098   \n",
            "1stFlrSF        -0.251758     0.457181  0.299475     0.476224    -0.144203   \n",
            "2ndFlrSF         0.307886     0.080177  0.050986     0.295493     0.028942   \n",
            "LowQualFinSF     0.046474     0.038469  0.004779    -0.030429     0.025494   \n",
            "GrLivArea        0.074853     0.402797  0.263116     0.593007    -0.079686   \n",
            "BsmtFullBath     0.003491     0.100949  0.158155     0.111098    -0.054942   \n",
            "BsmtHalfBath    -0.002333    -0.007234  0.048046    -0.040150     0.117821   \n",
            "FullBath         0.131608     0.198769  0.126031     0.550600    -0.194149   \n",
            "HalfBath         0.177354     0.053532  0.014259     0.273458    -0.060769   \n",
            "BedroomAbvGr    -0.023438     0.263170  0.119690     0.101676     0.012980   \n",
            "KitchenAbvGr     0.281721    -0.006069 -0.017784    -0.183882    -0.087001   \n",
            "TotRmsAbvGrd     0.040380     0.352096  0.190015     0.427452    -0.057583   \n",
            "Fireplaces      -0.045569     0.266639  0.271364     0.396765    -0.023820   \n",
            "GarageYrBlt      0.085072     0.070250 -0.024947     0.547766    -0.324297   \n",
            "GarageCars      -0.040110     0.285691  0.154871     0.600671    -0.185758   \n",
            "GarageArea      -0.098672     0.344997  0.180403     0.562022    -0.151521   \n",
            "WoodDeckSF      -0.012579     0.088521  0.171698     0.238923    -0.003334   \n",
            "OpenPorchSF     -0.006100     0.151972  0.084774     0.308819    -0.032589   \n",
            "EnclosedPorch   -0.012037     0.010700 -0.018340    -0.113937     0.070356   \n",
            "3SsnPorch       -0.043825     0.070029  0.020423     0.030371     0.025504   \n",
            "ScreenPorch     -0.026030     0.041383  0.043160     0.064886     0.054811   \n",
            "PoolArea         0.008283     0.206167  0.077672     0.065166    -0.001985   \n",
            "MiscVal         -0.007683     0.003368  0.038068    -0.031406     0.068777   \n",
            "MoSold          -0.013585     0.011200  0.001205     0.070815    -0.003511   \n",
            "YrSold          -0.021407     0.007450 -0.014261    -0.027347     0.043950   \n",
            "SalePrice       -0.084284     0.351799  0.263843     0.790982    -0.077856   \n",
            "\n",
            "               YearBuilt  YearRemodAdd  MasVnrArea  BsmtFinSF1  BsmtFinSF2  \\\n",
            "MSSubClass      0.027850      0.040581    0.022936   -0.069836   -0.065649   \n",
            "LotFrontage     0.123349      0.088866    0.193458    0.233633    0.049900   \n",
            "LotArea         0.014228      0.013788    0.104160    0.214103    0.111170   \n",
            "OverallQual     0.572323      0.550684    0.411876    0.239666   -0.059119   \n",
            "OverallCond    -0.375983      0.073741   -0.128101   -0.046231    0.040229   \n",
            "YearBuilt       1.000000      0.592855    0.315707    0.249503   -0.049107   \n",
            "YearRemodAdd    0.592855      1.000000    0.179618    0.128451   -0.067759   \n",
            "MasVnrArea      0.315707      0.179618    1.000000    0.264736   -0.072319   \n",
            "BsmtFinSF1      0.249503      0.128451    0.264736    1.000000   -0.050117   \n",
            "BsmtFinSF2     -0.049107     -0.067759   -0.072319   -0.050117    1.000000   \n",
            "BsmtUnfSF       0.149040      0.181133    0.114442   -0.495251   -0.209294   \n",
            "TotalBsmtSF     0.391452      0.291066    0.363936    0.522396    0.104810   \n",
            "1stFlrSF        0.281986      0.240379    0.344501    0.445863    0.097117   \n",
            "2ndFlrSF        0.010308      0.140024    0.174561   -0.137079   -0.099260   \n",
            "LowQualFinSF   -0.183784     -0.062419   -0.069071   -0.064503    0.014807   \n",
            "GrLivArea       0.199010      0.287389    0.390857    0.208171   -0.009640   \n",
            "BsmtFullBath    0.187599      0.119470    0.085310    0.649212    0.158678   \n",
            "BsmtHalfBath   -0.038162     -0.012337    0.026673    0.067418    0.070948   \n",
            "FullBath        0.468271      0.439046    0.276833    0.058543   -0.076444   \n",
            "HalfBath        0.242656      0.183331    0.201444    0.004262   -0.032148   \n",
            "BedroomAbvGr   -0.070651     -0.040581    0.102821   -0.107355   -0.015728   \n",
            "KitchenAbvGr   -0.174800     -0.149598   -0.037610   -0.081007   -0.040751   \n",
            "TotRmsAbvGrd    0.095589      0.191740    0.280682    0.044316   -0.035227   \n",
            "Fireplaces      0.147716      0.112581    0.249070    0.260011    0.046921   \n",
            "GarageYrBlt     0.825667      0.642277    0.252691    0.153484   -0.088011   \n",
            "GarageCars      0.537850      0.420622    0.364204    0.224054   -0.038264   \n",
            "GarageArea      0.478954      0.371600    0.373066    0.296970   -0.018227   \n",
            "WoodDeckSF      0.224880      0.205726    0.159718    0.204306    0.067898   \n",
            "OpenPorchSF     0.188686      0.226298    0.125703    0.111761    0.003093   \n",
            "EnclosedPorch  -0.387268     -0.193919   -0.110204   -0.102303    0.036543   \n",
            "3SsnPorch       0.031355      0.045286    0.018796    0.026451   -0.029993   \n",
            "ScreenPorch    -0.050364     -0.038740    0.061466    0.062021    0.088871   \n",
            "PoolArea        0.004950      0.005829    0.011723    0.140491    0.041709   \n",
            "MiscVal        -0.034383     -0.010286   -0.029815    0.003571    0.004940   \n",
            "MoSold          0.012398      0.021490   -0.005965   -0.015727   -0.015211   \n",
            "YrSold         -0.013618      0.035743   -0.008201    0.014359    0.031706   \n",
            "SalePrice       0.522897      0.507101    0.477493    0.386420   -0.011378   \n",
            "\n",
            "               ...  WoodDeckSF  OpenPorchSF  EnclosedPorch  3SsnPorch  \\\n",
            "MSSubClass     ...   -0.012579    -0.006100      -0.012037  -0.043825   \n",
            "LotFrontage    ...    0.088521     0.151972       0.010700   0.070029   \n",
            "LotArea        ...    0.171698     0.084774      -0.018340   0.020423   \n",
            "OverallQual    ...    0.238923     0.308819      -0.113937   0.030371   \n",
            "OverallCond    ...   -0.003334    -0.032589       0.070356   0.025504   \n",
            "YearBuilt      ...    0.224880     0.188686      -0.387268   0.031355   \n",
            "YearRemodAdd   ...    0.205726     0.226298      -0.193919   0.045286   \n",
            "MasVnrArea     ...    0.159718     0.125703      -0.110204   0.018796   \n",
            "BsmtFinSF1     ...    0.204306     0.111761      -0.102303   0.026451   \n",
            "BsmtFinSF2     ...    0.067898     0.003093       0.036543  -0.029993   \n",
            "BsmtUnfSF      ...   -0.005316     0.129005      -0.002538   0.020764   \n",
            "TotalBsmtSF    ...    0.232019     0.247264      -0.095478   0.037384   \n",
            "1stFlrSF       ...    0.235459     0.211671      -0.065292   0.056104   \n",
            "2ndFlrSF       ...    0.092165     0.208026       0.061989  -0.024358   \n",
            "LowQualFinSF   ...   -0.025444     0.018251       0.061081  -0.004296   \n",
            "GrLivArea      ...    0.247433     0.330224       0.009113   0.020643   \n",
            "BsmtFullBath   ...    0.175315     0.067341      -0.049911  -0.000106   \n",
            "BsmtHalfBath   ...    0.040161    -0.025324      -0.008555   0.035114   \n",
            "FullBath       ...    0.187703     0.259977      -0.115093   0.035353   \n",
            "HalfBath       ...    0.108080     0.199740      -0.095317  -0.004972   \n",
            "BedroomAbvGr   ...    0.046854     0.093810       0.041570  -0.024478   \n",
            "KitchenAbvGr   ...   -0.090130    -0.070091       0.037312  -0.024600   \n",
            "TotRmsAbvGrd   ...    0.165984     0.234192       0.004151  -0.006683   \n",
            "Fireplaces     ...    0.200019     0.169405      -0.024822   0.011257   \n",
            "GarageYrBlt    ...    0.224577     0.228425      -0.297003   0.023544   \n",
            "GarageCars     ...    0.226342     0.213569      -0.151434   0.035765   \n",
            "GarageArea     ...    0.224666     0.241435      -0.121777   0.035087   \n",
            "WoodDeckSF     ...    1.000000     0.058661      -0.125989  -0.032771   \n",
            "OpenPorchSF    ...    0.058661     1.000000      -0.093079  -0.005842   \n",
            "EnclosedPorch  ...   -0.125989    -0.093079       1.000000  -0.037305   \n",
            "3SsnPorch      ...   -0.032771    -0.005842      -0.037305   1.000000   \n",
            "ScreenPorch    ...   -0.074181     0.074304      -0.082864  -0.031436   \n",
            "PoolArea       ...    0.073378     0.060762       0.054203  -0.007992   \n",
            "MiscVal        ...   -0.009551    -0.018584       0.018361   0.000354   \n",
            "MoSold         ...    0.021011     0.071255      -0.028887   0.029474   \n",
            "YrSold         ...    0.022270    -0.057619      -0.009916   0.018645   \n",
            "SalePrice      ...    0.324413     0.315856      -0.128578   0.044584   \n",
            "\n",
            "               ScreenPorch  PoolArea   MiscVal    MoSold    YrSold  SalePrice  \n",
            "MSSubClass       -0.026030  0.008283 -0.007683 -0.013585 -0.021407  -0.084284  \n",
            "LotFrontage       0.041383  0.206167  0.003368  0.011200  0.007450   0.351799  \n",
            "LotArea           0.043160  0.077672  0.038068  0.001205 -0.014261   0.263843  \n",
            "OverallQual       0.064886  0.065166 -0.031406  0.070815 -0.027347   0.790982  \n",
            "OverallCond       0.054811 -0.001985  0.068777 -0.003511  0.043950  -0.077856  \n",
            "YearBuilt        -0.050364  0.004950 -0.034383  0.012398 -0.013618   0.522897  \n",
            "YearRemodAdd     -0.038740  0.005829 -0.010286  0.021490  0.035743   0.507101  \n",
            "MasVnrArea        0.061466  0.011723 -0.029815 -0.005965 -0.008201   0.477493  \n",
            "BsmtFinSF1        0.062021  0.140491  0.003571 -0.015727  0.014359   0.386420  \n",
            "BsmtFinSF2        0.088871  0.041709  0.004940 -0.015211  0.031706  -0.011378  \n",
            "BsmtUnfSF        -0.012579 -0.035092 -0.023837  0.034888 -0.041258   0.214479  \n",
            "TotalBsmtSF       0.084489  0.126053 -0.018479  0.013196 -0.014969   0.613581  \n",
            "1stFlrSF          0.088758  0.131525 -0.021096  0.031372 -0.013604   0.605852  \n",
            "2ndFlrSF          0.040606  0.081487  0.016197  0.035164 -0.028700   0.319334  \n",
            "LowQualFinSF      0.026799  0.062157 -0.003793 -0.022174 -0.028921  -0.025606  \n",
            "GrLivArea         0.101510  0.170205 -0.002416  0.050240 -0.036526   0.708624  \n",
            "BsmtFullBath      0.023148  0.067616 -0.023047 -0.025361  0.067049   0.227122  \n",
            "BsmtHalfBath      0.032121  0.020025 -0.007367  0.032873 -0.046524  -0.016844  \n",
            "FullBath         -0.008106  0.049604 -0.014290  0.055872 -0.019669   0.560664  \n",
            "HalfBath          0.072426  0.022381  0.001290 -0.009050 -0.010269   0.284108  \n",
            "BedroomAbvGr      0.044300  0.070703  0.007767  0.046544 -0.036014   0.168213  \n",
            "KitchenAbvGr     -0.051613 -0.014525  0.062341  0.026589  0.031687  -0.135907  \n",
            "TotRmsAbvGrd      0.059383  0.083757  0.024763  0.036907 -0.034516   0.533723  \n",
            "Fireplaces        0.184530  0.095074  0.001409  0.046357 -0.024096   0.466929  \n",
            "GarageYrBlt      -0.075418 -0.014501 -0.032417  0.005337 -0.001014   0.486362  \n",
            "GarageCars        0.050494  0.020934 -0.043080  0.040522 -0.039117   0.640409  \n",
            "GarageArea        0.051412  0.061047 -0.027400  0.027974 -0.027378   0.623431  \n",
            "WoodDeckSF       -0.074181  0.073378 -0.009551  0.021011  0.022270   0.324413  \n",
            "OpenPorchSF       0.074304  0.060762 -0.018584  0.071255 -0.057619   0.315856  \n",
            "EnclosedPorch    -0.082864  0.054203  0.018361 -0.028887 -0.009916  -0.128578  \n",
            "3SsnPorch        -0.031436 -0.007992  0.000354  0.029474  0.018645   0.044584  \n",
            "ScreenPorch       1.000000  0.051307  0.031946  0.023217  0.010694   0.111447  \n",
            "PoolArea          0.051307  1.000000  0.029669 -0.033737 -0.059689   0.092404  \n",
            "MiscVal           0.031946  0.029669  1.000000 -0.006495  0.004906  -0.021190  \n",
            "MoSold            0.023217 -0.033737 -0.006495  1.000000 -0.145721   0.046432  \n",
            "YrSold            0.010694 -0.059689  0.004906 -0.145721  1.000000  -0.028923  \n",
            "SalePrice         0.111447  0.092404 -0.021190  0.046432 -0.028923   1.000000  \n",
            "\n",
            "[37 rows x 37 columns]\n"
          ]
        }
      ],
      "source": [
        "data = dataframe[info_real_frame.columns[1:]]\n",
        "print(data.corr())"
      ]
    },
    {
      "cell_type": "code",
      "execution_count": null,
      "metadata": {
        "colab": {
          "base_uri": "https://localhost:8080/"
        },
        "id": "B0n3LhEIPLrJ",
        "outputId": "197cb87d-0b76-4f90-c03d-77b39e0ec713"
      },
      "outputs": [
        {
          "name": "stdout",
          "output_type": "stream",
          "text": [
            "KitchenAbvGr    -0.135907\n",
            "EnclosedPorch   -0.128578\n",
            "MSSubClass      -0.084284\n",
            "OverallCond     -0.077856\n",
            "YrSold          -0.028923\n",
            "LowQualFinSF    -0.025606\n",
            "MiscVal         -0.021190\n",
            "BsmtHalfBath    -0.016844\n",
            "BsmtFinSF2      -0.011378\n",
            "3SsnPorch        0.044584\n",
            "MoSold           0.046432\n",
            "PoolArea         0.092404\n",
            "ScreenPorch      0.111447\n",
            "BedroomAbvGr     0.168213\n",
            "BsmtUnfSF        0.214479\n",
            "BsmtFullBath     0.227122\n",
            "LotArea          0.263843\n",
            "HalfBath         0.284108\n",
            "OpenPorchSF      0.315856\n",
            "2ndFlrSF         0.319334\n",
            "WoodDeckSF       0.324413\n",
            "LotFrontage      0.351799\n",
            "BsmtFinSF1       0.386420\n",
            "Fireplaces       0.466929\n",
            "MasVnrArea       0.477493\n",
            "GarageYrBlt      0.486362\n",
            "YearRemodAdd     0.507101\n",
            "YearBuilt        0.522897\n",
            "TotRmsAbvGrd     0.533723\n",
            "FullBath         0.560664\n",
            "1stFlrSF         0.605852\n",
            "TotalBsmtSF      0.613581\n",
            "GarageArea       0.623431\n",
            "GarageCars       0.640409\n",
            "GrLivArea        0.708624\n",
            "OverallQual      0.790982\n",
            "Name: SalePrice, dtype: float64\n"
          ]
        }
      ],
      "source": [
        "sales_correlations = data.corr().iloc[-1, :-1] #все кореляции для последней строки\n",
        "sales_correlations = sales_correlations.sort_values() \n",
        "print(sales_correlations)"
      ]
    },
    {
      "cell_type": "code",
      "execution_count": null,
      "metadata": {
        "colab": {
          "base_uri": "https://localhost:8080/"
        },
        "id": "4UvopsReLIfI",
        "outputId": "1e62e156-7b83-4c84-d306-b954db4e6ce9"
      },
      "outputs": [
        {
          "name": "stdout",
          "output_type": "stream",
          "text": [
            "Index(['KitchenAbvGr', 'EnclosedPorch', 'MSSubClass', 'OverallCond', 'YrSold',\n",
            "       'LowQualFinSF', 'MiscVal', 'BsmtHalfBath', 'BsmtFinSF2', '3SsnPorch',\n",
            "       'MoSold', 'PoolArea', 'ScreenPorch', 'BedroomAbvGr', 'BsmtUnfSF',\n",
            "       'BsmtFullBath', 'LotArea', 'HalfBath', 'OpenPorchSF', '2ndFlrSF',\n",
            "       'WoodDeckSF', 'LotFrontage', 'BsmtFinSF1', 'Fireplaces', 'MasVnrArea',\n",
            "       'GarageYrBlt', 'YearRemodAdd', 'YearBuilt', 'TotRmsAbvGrd', 'FullBath',\n",
            "       '1stFlrSF', 'TotalBsmtSF', 'GarageArea', 'GarageCars', 'GrLivArea',\n",
            "       'OverallQual'],\n",
            "      dtype='object')\n"
          ]
        }
      ],
      "source": [
        "sales_predictors_labels = sales_correlations.axes[0] #список меток строк\n",
        "print(sales_predictors_labels)"
      ]
    },
    {
      "cell_type": "code",
      "execution_count": null,
      "metadata": {
        "colab": {
          "base_uri": "https://localhost:8080/"
        },
        "id": "_nFV1mPTQgHx",
        "outputId": "4ef3abee-31e4-4ba4-b6d6-7b0ce4aa2dea"
      },
      "outputs": [
        {
          "name": "stdout",
          "output_type": "stream",
          "text": [
            "(1460, 36)\n",
            "(1460,)\n"
          ]
        }
      ],
      "source": [
        "X = dataframe[sales_predictors_labels]\n",
        "Y = dataframe[sales_correlations.name]\n",
        "print(X.shape)\n",
        "print(Y.shape)"
      ]
    },
    {
      "cell_type": "code",
      "execution_count": null,
      "metadata": {
        "colab": {
          "base_uri": "https://localhost:8080/"
        },
        "id": "_Ps1IhBRUGtK",
        "outputId": "cb476e5a-9552-44d8-84c5-fc18edf915a4"
      },
      "outputs": [
        {
          "data": {
            "text/plain": [
              "KitchenAbvGr       0\n",
              "EnclosedPorch      0\n",
              "MSSubClass         0\n",
              "OverallCond        0\n",
              "YrSold             0\n",
              "LowQualFinSF       0\n",
              "MiscVal            0\n",
              "BsmtHalfBath       0\n",
              "BsmtFinSF2         0\n",
              "3SsnPorch          0\n",
              "MoSold             0\n",
              "PoolArea           0\n",
              "ScreenPorch        0\n",
              "BedroomAbvGr       0\n",
              "BsmtUnfSF          0\n",
              "BsmtFullBath       0\n",
              "LotArea            0\n",
              "HalfBath           0\n",
              "OpenPorchSF        0\n",
              "2ndFlrSF           0\n",
              "WoodDeckSF         0\n",
              "LotFrontage      259\n",
              "BsmtFinSF1         0\n",
              "Fireplaces         0\n",
              "MasVnrArea         8\n",
              "GarageYrBlt       81\n",
              "YearRemodAdd       0\n",
              "YearBuilt          0\n",
              "TotRmsAbvGrd       0\n",
              "FullBath           0\n",
              "1stFlrSF           0\n",
              "TotalBsmtSF        0\n",
              "GarageArea         0\n",
              "GarageCars         0\n",
              "GrLivArea          0\n",
              "OverallQual        0\n",
              "dtype: int64"
            ]
          },
          "execution_count": 16,
          "metadata": {},
          "output_type": "execute_result"
        }
      ],
      "source": [
        "np.sum(X.isna())"
      ]
    },
    {
      "cell_type": "code",
      "execution_count": null,
      "metadata": {
        "id": "7CIUyoClUOxL"
      },
      "outputs": [],
      "source": [
        "X = X.interpolate(Axis = 1)"
      ]
    },
    {
      "cell_type": "code",
      "execution_count": null,
      "metadata": {
        "colab": {
          "base_uri": "https://localhost:8080/"
        },
        "id": "RRRn-f6uUagj",
        "outputId": "d61452ca-6f85-444a-b5c1-11af72f0f43e"
      },
      "outputs": [
        {
          "data": {
            "text/plain": [
              "KitchenAbvGr     0\n",
              "EnclosedPorch    0\n",
              "MSSubClass       0\n",
              "OverallCond      0\n",
              "YrSold           0\n",
              "LowQualFinSF     0\n",
              "MiscVal          0\n",
              "BsmtHalfBath     0\n",
              "BsmtFinSF2       0\n",
              "3SsnPorch        0\n",
              "MoSold           0\n",
              "PoolArea         0\n",
              "ScreenPorch      0\n",
              "BedroomAbvGr     0\n",
              "BsmtUnfSF        0\n",
              "BsmtFullBath     0\n",
              "LotArea          0\n",
              "HalfBath         0\n",
              "OpenPorchSF      0\n",
              "2ndFlrSF         0\n",
              "WoodDeckSF       0\n",
              "LotFrontage      0\n",
              "BsmtFinSF1       0\n",
              "Fireplaces       0\n",
              "MasVnrArea       0\n",
              "GarageYrBlt      0\n",
              "YearRemodAdd     0\n",
              "YearBuilt        0\n",
              "TotRmsAbvGrd     0\n",
              "FullBath         0\n",
              "1stFlrSF         0\n",
              "TotalBsmtSF      0\n",
              "GarageArea       0\n",
              "GarageCars       0\n",
              "GrLivArea        0\n",
              "OverallQual      0\n",
              "dtype: int64"
            ]
          },
          "execution_count": 18,
          "metadata": {},
          "output_type": "execute_result"
        }
      ],
      "source": [
        "np.sum(X.isna())"
      ]
    },
    {
      "cell_type": "code",
      "execution_count": null,
      "metadata": {
        "colab": {
          "base_uri": "https://localhost:8080/"
        },
        "id": "jb025mMFQjHI",
        "outputId": "b7246823-ff8a-43da-9658-41af30aab476"
      },
      "outputs": [
        {
          "name": "stdout",
          "output_type": "stream",
          "text": [
            "Размер выборки для тренировки и кросс-валидации (1168, 36)\n",
            "Размер откликов для тренировки и кросс-валидации (1168,)\n"
          ]
        }
      ],
      "source": [
        "seed=123\n",
        "test_ratio = 0.2\n",
        "\n",
        "X_train, X_test, Y_train, Y_test = train_test_split(X, Y, \n",
        "                                                    test_size=test_ratio, \n",
        "                                                    random_state=seed, \n",
        "                                                    shuffle=True)\n",
        "\n",
        "print(\"Размер выборки для тренировки и кросс-валидации\", X_train.shape) \n",
        "print(\"Размер откликов для тренировки и кросс-валидации\", Y_train.shape)"
      ]
    },
    {
      "cell_type": "markdown",
      "metadata": {
        "id": "nHlNuPBfTdPA"
      },
      "source": [
        "Можем просто обучить регрессор и посмотреть на результат на тесте, если нужно сделать беглую оценку результату отбора признаков"
      ]
    },
    {
      "cell_type": "code",
      "execution_count": null,
      "metadata": {
        "colab": {
          "base_uri": "https://localhost:8080/"
        },
        "id": "IEQ4qmVxTmT6",
        "outputId": "e82c54fa-14c8-4982-a5e1-d28d7cfd8b27"
      },
      "outputs": [
        {
          "name": "stdout",
          "output_type": "stream",
          "text": [
            "Coefficients weights:  [-8.73285618e+03  5.70940547e+00 -1.96323360e+02  3.64741208e+03\n",
            " -5.72372529e+02 -1.46815334e+01 -4.93881350e-01  3.06849865e+03\n",
            "  1.75897497e-01  1.53707889e+01  6.46233845e+01 -1.84848128e+01\n",
            "  3.72633195e+01 -9.39149740e+03 -1.62919660e+00  8.64331512e+03\n",
            "  4.16925511e-01 -3.03749920e+03  1.08038405e+00  2.07784833e+01\n",
            "  2.45914971e+01 -1.13337910e+02  1.01560319e+01  5.28838119e+03\n",
            "  2.75823062e+01  9.52209482e+01  1.60643937e+02  2.68948883e+02\n",
            "  4.42180805e+03  2.72420629e+03  2.14815415e+01  8.70273283e+00\n",
            " -1.39965809e+01  1.43348577e+04  2.75784914e+01  1.75949819e+04] \n",
            "\n",
            "R2 on train sample is 0.8043029445018927\n"
          ]
        }
      ],
      "source": [
        "model_lm = LinearRegression()           # Объект класса\n",
        "model_lm.fit(X_train, Y_train)          # Метод обучение\n",
        "print(\"Coefficients weights: \", model_lm.coef_, \"\\n\")\n",
        "print(\"R2 on train sample is\", model_lm.score(X_train, Y_train))"
      ]
    },
    {
      "cell_type": "code",
      "execution_count": null,
      "metadata": {
        "colab": {
          "base_uri": "https://localhost:8080/",
          "height": 280
        },
        "id": "ZD_Tft3IAr0K",
        "outputId": "c2eebb69-1702-416e-8339-c4cda861cc0a"
      },
      "outputs": [
        {
          "data": {
            "image/png": "[encoded data removed]",
            "text/plain": [
              "<Figure size 1728x648 with 1 Axes>"
            ]
          },
          "metadata": {
            "needs_background": "light"
          },
          "output_type": "display_data"
        }
      ],
      "source": [
        "plt.figure(figsize = (24, 9))\n",
        "model_coeffs = pd.Series(data = model_lm.coef_, index=sales_predictors_labels)\n",
        "plt.bar(x = model_coeffs.sort_values().axes[0], height = model_coeffs.sort_values())\n",
        "\n",
        "ax = plt.gca()\n",
        "ax.tick_params(axis='x', labelrotation = 45)\n",
        "\n",
        "plt.show()"
      ]
    },
    {
      "cell_type": "code",
      "execution_count": null,
      "metadata": {
        "colab": {
          "base_uri": "https://localhost:8080/"
        },
        "id": "GgP-DKsPUlRS",
        "outputId": "54ae2371-3333-4976-c346-80868bf3532e"
      },
      "outputs": [
        {
          "name": "stdout",
          "output_type": "stream",
          "text": [
            "0.8421788031363042\n"
          ]
        }
      ],
      "source": [
        "preds = model_lm.predict(X_test)\n",
        "R2_real = r2_score(Y_test, preds)\n",
        "print(R2_real)"
      ]
    },
    {
      "cell_type": "code",
      "execution_count": null,
      "metadata": {
        "colab": {
          "base_uri": "https://localhost:8080/"
        },
        "id": "VCkXwUZo5ixZ",
        "outputId": "e2b53b71-71f9-4ae9-db85-31380a4c3554"
      },
      "outputs": [
        {
          "name": "stdout",
          "output_type": "stream",
          "text": [
            "19274.53672363394\n"
          ]
        }
      ],
      "source": [
        "MAE_real = mean_absolute_error(Y_test, preds)\n",
        "print(MAE_real)"
      ]
    },
    {
      "cell_type": "code",
      "execution_count": null,
      "metadata": {
        "colab": {
          "base_uri": "https://localhost:8080/",
          "height": 486
        },
        "id": "68jCT_LKdjHJ",
        "outputId": "9226ba2c-6814-45c6-dcf1-02a71fc413e3"
      },
      "outputs": [
        {
          "data": {
            "image/png": "[encoded data removed]",
            "text/plain": [
              "<Figure size 720x540 with 1 Axes>"
            ]
          },
          "metadata": {
            "needs_background": "light"
          },
          "output_type": "display_data"
        }
      ],
      "source": [
        "plt.scatter(preds, Y_test, c = 'b', label = 'Y to preds')\n",
        "plt.plot(preds, preds, c = 'r', label = 'pred-pred line')\n",
        "plt.xlabel(\"Predictions\")\n",
        "plt.ylabel(\"True values\")\n",
        "plt.title(\"Linear model approximation of test data\")\n",
        "plt.legend()\n",
        "plt.show()"
      ]
    },
    {
      "cell_type": "code",
      "execution_count": null,
      "metadata": {
        "colab": {
          "base_uri": "https://localhost:8080/",
          "height": 486
        },
        "id": "omIxbpTWesaZ",
        "outputId": "a23aeeea-873f-4df7-c0af-1c30caee0a65"
      },
      "outputs": [
        {
          "data": {
            "image/png": "[encoded data removed]",
            "text/plain": [
              "<Figure size 720x540 with 1 Axes>"
            ]
          },
          "metadata": {
            "needs_background": "light"
          },
          "output_type": "display_data"
        }
      ],
      "source": [
        "#график разброса, большая часть данных лежит в интервале +-50к\n",
        "plt.scatter(preds, Y_test - preds, c = 'b')\n",
        "plt.plot(preds, np.zeros_like(preds), c = 'r')\n",
        "plt.xlabel(\"Predictions\")\n",
        "plt.ylabel(\"Residuals\")\n",
        "plt.title(\"Linear model residuals of test data\")\n",
        "plt.show()"
      ]
    },
    {
      "cell_type": "code",
      "execution_count": null,
      "metadata": {
        "id": "17wGzg9HfDDL"
      },
      "outputs": [],
      "source": [
        "seed=123\n",
        "test_ratio = 0.2\n",
        "\n",
        "r2_history_train = []\n",
        "r2_history_test = []\n",
        "pred_names = []\n",
        "preds_y = []\n",
        "models = []\n",
        "predictors = np.arange(1, len(sales_correlations) + 1)\n",
        "\n",
        "X = dataframe[sales_predictors_labels]\n",
        "Y = dataframe[sales_correlations.name]\n",
        "X = X.interpolate(Axis = 1)\n",
        "\n",
        "\n",
        "for predictor_name in sales_predictors_labels[::-1]:\n",
        "    pred_names.append(predictor_name)\n",
        "    X_trace = X[pred_names]\n",
        "\n",
        "    X_train, X_test, Y_train, Y_test = train_test_split(X_trace, Y, \n",
        "                                                    test_size=test_ratio, \n",
        "                                                    random_state=seed, \n",
        "                                                    shuffle=True)\n",
        "    model_lm = LinearRegression()\n",
        "    model_lm.fit(X_train, Y_train)\n",
        "    \n",
        "    preds = model_lm.predict(X_test)\n",
        "    models.append(model_lm)\n",
        "    \n",
        "    preds_y.append(preds)\n",
        "    r2_history_train.append(model_lm.score(X_train, Y_train))\n",
        "    r2_history_test.append(model_lm.score(X_test, Y_test))"
      ]
    },
    {
      "cell_type": "code",
      "execution_count": null,
      "metadata": {
        "colab": {
          "base_uri": "https://localhost:8080/",
          "height": 504
        },
        "id": "rnSdt9SQhR1W",
        "outputId": "98501d6f-a927-4d36-8c85-711d2d14eb1e"
      },
      "outputs": [
        {
          "data": {
            "text/plain": [
              "<matplotlib.legend.Legend at 0x7f63fb373dd0>"
            ]
          },
          "execution_count": 27,
          "metadata": {},
          "output_type": "execute_result"
        },
        {
          "data": {
            "image/png": "[encoded data removed]",
            "text/plain": [
              "<Figure size 720x540 with 1 Axes>"
            ]
          },
          "metadata": {
            "needs_background": "light"
          },
          "output_type": "display_data"
        }
      ],
      "source": [
        "plt.plot(predictors, r2_history_test, c = \"r\", label = 'test r2 curve')\n",
        "plt.plot(predictors, r2_history_train, c = \"g\", label = 'train r2 curve')\n",
        "plt.xlabel(\"Number of sorted predictors\")\n",
        "plt.ylabel(\"R2 metrics on test and train\")\n",
        "plt.title(\"Curve of R2 on increasing number of predictors\")\n",
        "plt.legend()"
      ]
    },
    {
      "cell_type": "markdown",
      "metadata": {
        "id": "sZkaSeWTq1yL"
      },
      "source": [
        "## **Регрессия с категориальными переменными**"
      ]
    },
    {
      "cell_type": "code",
      "execution_count": null,
      "metadata": {
        "colab": {
          "base_uri": "https://localhost:8080/",
          "height": 299
        },
        "id": "RrYo4dotq5mC",
        "outputId": "e23f203c-1505-47e9-8b49-89440a947f65"
      },
      "outputs": [
        {
          "data": {
            "text/html": [
              "\n",
              "  <div id=\"df-cb046956-02bb-462e-b9a9-f6b9ac0603f3\">\n",
              "    <div class=\"colab-df-container\">\n",
              "      <div>\n",
              "<style scoped>\n",
              "    .dataframe tbody tr th:only-of-type {\n",
              "        vertical-align: middle;\n",
              "    }\n",
              "\n",
              "    .dataframe tbody tr th {\n",
              "        vertical-align: top;\n",
              "    }\n",
              "\n",
              "    .dataframe thead th {\n",
              "        text-align: right;\n",
              "    }\n",
              "</style>\n",
              "<table border=\"1\" class=\"dataframe\">\n",
              "  <thead>\n",
              "    <tr style=\"text-align: right;\">\n",
              "      <th></th>\n",
              "      <th>Id</th>\n",
              "      <th>MSSubClass</th>\n",
              "      <th>MSZoning</th>\n",
              "      <th>LotFrontage</th>\n",
              "      <th>LotArea</th>\n",
              "      <th>Street</th>\n",
              "      <th>Alley</th>\n",
              "      <th>LotShape</th>\n",
              "      <th>LandContour</th>\n",
              "      <th>Utilities</th>\n",
              "      <th>...</th>\n",
              "      <th>SaleType_ConLw</th>\n",
              "      <th>SaleType_New</th>\n",
              "      <th>SaleType_Oth</th>\n",
              "      <th>SaleType_WD</th>\n",
              "      <th>SaleCondition_Abnorml</th>\n",
              "      <th>SaleCondition_AdjLand</th>\n",
              "      <th>SaleCondition_Alloca</th>\n",
              "      <th>SaleCondition_Family</th>\n",
              "      <th>SaleCondition_Normal</th>\n",
              "      <th>SaleCondition_Partial</th>\n",
              "    </tr>\n",
              "  </thead>\n",
              "  <tbody>\n",
              "    <tr>\n",
              "      <th>0</th>\n",
              "      <td>1.0</td>\n",
              "      <td>60.0</td>\n",
              "      <td>RL</td>\n",
              "      <td>65.0</td>\n",
              "      <td>8450.0</td>\n",
              "      <td>Pave</td>\n",
              "      <td>NaN</td>\n",
              "      <td>Reg</td>\n",
              "      <td>Lvl</td>\n",
              "      <td>AllPub</td>\n",
              "      <td>...</td>\n",
              "      <td>0</td>\n",
              "      <td>0</td>\n",
              "      <td>0</td>\n",
              "      <td>1</td>\n",
              "      <td>0</td>\n",
              "      <td>0</td>\n",
              "      <td>0</td>\n",
              "      <td>0</td>\n",
              "      <td>1</td>\n",
              "      <td>0</td>\n",
              "    </tr>\n",
              "    <tr>\n",
              "      <th>1</th>\n",
              "      <td>2.0</td>\n",
              "      <td>20.0</td>\n",
              "      <td>RL</td>\n",
              "      <td>80.0</td>\n",
              "      <td>9600.0</td>\n",
              "      <td>Pave</td>\n",
              "      <td>NaN</td>\n",
              "      <td>Reg</td>\n",
              "      <td>Lvl</td>\n",
              "      <td>AllPub</td>\n",
              "      <td>...</td>\n",
              "      <td>0</td>\n",
              "      <td>0</td>\n",
              "      <td>0</td>\n",
              "      <td>1</td>\n",
              "      <td>0</td>\n",
              "      <td>0</td>\n",
              "      <td>0</td>\n",
              "      <td>0</td>\n",
              "      <td>1</td>\n",
              "      <td>0</td>\n",
              "    </tr>\n",
              "    <tr>\n",
              "      <th>2</th>\n",
              "      <td>3.0</td>\n",
              "      <td>60.0</td>\n",
              "      <td>RL</td>\n",
              "      <td>68.0</td>\n",
              "      <td>11250.0</td>\n",
              "      <td>Pave</td>\n",
              "      <td>NaN</td>\n",
              "      <td>IR1</td>\n",
              "      <td>Lvl</td>\n",
              "      <td>AllPub</td>\n",
              "      <td>...</td>\n",
              "      <td>0</td>\n",
              "      <td>0</td>\n",
              "      <td>0</td>\n",
              "      <td>1</td>\n",
              "      <td>0</td>\n",
              "      <td>0</td>\n",
              "      <td>0</td>\n",
              "      <td>0</td>\n",
              "      <td>1</td>\n",
              "      <td>0</td>\n",
              "    </tr>\n",
              "    <tr>\n",
              "      <th>3</th>\n",
              "      <td>4.0</td>\n",
              "      <td>70.0</td>\n",
              "      <td>RL</td>\n",
              "      <td>60.0</td>\n",
              "      <td>9550.0</td>\n",
              "      <td>Pave</td>\n",
              "      <td>NaN</td>\n",
              "      <td>IR1</td>\n",
              "      <td>Lvl</td>\n",
              "      <td>AllPub</td>\n",
              "      <td>...</td>\n",
              "      <td>0</td>\n",
              "      <td>0</td>\n",
              "      <td>0</td>\n",
              "      <td>1</td>\n",
              "      <td>1</td>\n",
              "      <td>0</td>\n",
              "      <td>0</td>\n",
              "      <td>0</td>\n",
              "      <td>0</td>\n",
              "      <td>0</td>\n",
              "    </tr>\n",
              "    <tr>\n",
              "      <th>4</th>\n",
              "      <td>5.0</td>\n",
              "      <td>60.0</td>\n",
              "      <td>RL</td>\n",
              "      <td>84.0</td>\n",
              "      <td>14260.0</td>\n",
              "      <td>Pave</td>\n",
              "      <td>NaN</td>\n",
              "      <td>IR1</td>\n",
              "      <td>Lvl</td>\n",
              "      <td>AllPub</td>\n",
              "      <td>...</td>\n",
              "      <td>0</td>\n",
              "      <td>0</td>\n",
              "      <td>0</td>\n",
              "      <td>1</td>\n",
              "      <td>0</td>\n",
              "      <td>0</td>\n",
              "      <td>0</td>\n",
              "      <td>0</td>\n",
              "      <td>1</td>\n",
              "      <td>0</td>\n",
              "    </tr>\n",
              "  </tbody>\n",
              "</table>\n",
              "<p>5 rows × 333 columns</p>\n",
              "</div>\n",
              "      <button class=\"colab-df-convert\" onclick=\"convertToInteractive('df-cb046956-02bb-462e-b9a9-f6b9ac0603f3')\"\n",
              "              title=\"Convert this dataframe to an interactive table.\"\n",
              "              style=\"display:none;\">\n",
              "        \n",
              "  <svg xmlns=\"http://www.w3.org/2000/svg\" height=\"24px\"viewBox=\"0 0 24 24\"\n",
              "       width=\"24px\">\n",
              "    <path d=\"M0 0h24v24H0V0z\" fill=\"none\"/>\n",
              "    <path d=\"M18.56 5.44l.94 2.06.94-2.06 2.06-.94-2.06-.94-.94-2.06-.94 2.06-2.06.94zm-11 1L8.5 8.5l.94-2.06 2.06-.94-2.06-.94L8.5 2.5l-.94 2.06-2.06.94zm10 10l.94 2.06.94-2.06 2.06-.94-2.06-.94-.94-2.06-.94 2.06-2.06.94z\"/><path d=\"M17.41 7.96l-1.37-1.37c-.4-.4-.92-.59-1.43-.59-.52 0-1.04.2-1.43.59L10.3 9.45l-7.72 7.72c-.78.78-.78 2.05 0 2.83L4 21.41c.39.39.9.59 1.41.59.51 0 1.02-.2 1.41-.59l7.78-7.78 2.81-2.81c.8-.78.8-2.07 0-2.86zM5.41 20L4 18.59l7.72-7.72 1.47 1.35L5.41 20z\"/>\n",
              "  </svg>\n",
              "      </button>\n",
              "      \n",
              "  <style>\n",
              "    .colab-df-container {\n",
              "      display:flex;\n",
              "      flex-wrap:wrap;\n",
              "      gap: 12px;\n",
              "    }\n",
              "\n",
              "    .colab-df-convert {\n",
              "      background-color: #E8F0FE;\n",
              "      border: none;\n",
              "      border-radius: 50%;\n",
              "      cursor: pointer;\n",
              "      display: none;\n",
              "      fill: #1967D2;\n",
              "      height: 32px;\n",
              "      padding: 0 0 0 0;\n",
              "      width: 32px;\n",
              "    }\n",
              "\n",
              "    .colab-df-convert:hover {\n",
              "      background-color: #E2EBFA;\n",
              "      box-shadow: 0px 1px 2px rgba(60, 64, 67, 0.3), 0px 1px 3px 1px rgba(60, 64, 67, 0.15);\n",
              "      fill: #174EA6;\n",
              "    }\n",
              "\n",
              "    [theme=dark] .colab-df-convert {\n",
              "      background-color: #3B4455;\n",
              "      fill: #D2E3FC;\n",
              "    }\n",
              "\n",
              "    [theme=dark] .colab-df-convert:hover {\n",
              "      background-color: #434B5C;\n",
              "      box-shadow: 0px 1px 3px 1px rgba(0, 0, 0, 0.15);\n",
              "      filter: drop-shadow(0px 1px 2px rgba(0, 0, 0, 0.3));\n",
              "      fill: #FFFFFF;\n",
              "    }\n",
              "  </style>\n",
              "\n",
              "      <script>\n",
              "        const buttonEl =\n",
              "          document.querySelector('#df-cb046956-02bb-462e-b9a9-f6b9ac0603f3 button.colab-df-convert');\n",
              "        buttonEl.style.display =\n",
              "          google.colab.kernel.accessAllowed ? 'block' : 'none';\n",
              "\n",
              "        async function convertToInteractive(key) {\n",
              "          const element = document.querySelector('#df-cb046956-02bb-462e-b9a9-f6b9ac0603f3');\n",
              "          const dataTable =\n",
              "            await google.colab.kernel.invokeFunction('convertToInteractive',\n",
              "                                                     [key], {});\n",
              "          if (!dataTable) return;\n",
              "\n",
              "          const docLinkHtml = 'Like what you see? Visit the ' +\n",
              "            '<a target=\"_blank\" href=https://colab.research.google.com/notebooks/data_table.ipynb>data table notebook</a>'\n",
              "            + ' to learn more about interactive tables.';\n",
              "          element.innerHTML = '';\n",
              "          dataTable['output_type'] = 'display_data';\n",
              "          await google.colab.output.renderOutput(dataTable, element);\n",
              "          const docLink = document.createElement('div');\n",
              "          docLink.innerHTML = docLinkHtml;\n",
              "          element.appendChild(docLink);\n",
              "        }\n",
              "      </script>\n",
              "    </div>\n",
              "  </div>\n",
              "  "
            ],
            "text/plain": [
              "    Id  MSSubClass MSZoning  LotFrontage  LotArea Street Alley LotShape  \\\n",
              "0  1.0        60.0       RL         65.0   8450.0   Pave   NaN      Reg   \n",
              "1  2.0        20.0       RL         80.0   9600.0   Pave   NaN      Reg   \n",
              "2  3.0        60.0       RL         68.0  11250.0   Pave   NaN      IR1   \n",
              "3  4.0        70.0       RL         60.0   9550.0   Pave   NaN      IR1   \n",
              "4  5.0        60.0       RL         84.0  14260.0   Pave   NaN      IR1   \n",
              "\n",
              "  LandContour Utilities  ... SaleType_ConLw SaleType_New SaleType_Oth  \\\n",
              "0         Lvl    AllPub  ...              0            0            0   \n",
              "1         Lvl    AllPub  ...              0            0            0   \n",
              "2         Lvl    AllPub  ...              0            0            0   \n",
              "3         Lvl    AllPub  ...              0            0            0   \n",
              "4         Lvl    AllPub  ...              0            0            0   \n",
              "\n",
              "  SaleType_WD SaleCondition_Abnorml SaleCondition_AdjLand  \\\n",
              "0           1                     0                     0   \n",
              "1           1                     0                     0   \n",
              "2           1                     0                     0   \n",
              "3           1                     1                     0   \n",
              "4           1                     0                     0   \n",
              "\n",
              "  SaleCondition_Alloca  SaleCondition_Family  SaleCondition_Normal  \\\n",
              "0                    0                     0                     1   \n",
              "1                    0                     0                     1   \n",
              "2                    0                     0                     1   \n",
              "3                    0                     0                     0   \n",
              "4                    0                     0                     1   \n",
              "\n",
              "   SaleCondition_Partial  \n",
              "0                      0  \n",
              "1                      0  \n",
              "2                      0  \n",
              "3                      0  \n",
              "4                      0  \n",
              "\n",
              "[5 rows x 333 columns]"
            ]
          },
          "execution_count": 28,
          "metadata": {},
          "output_type": "execute_result"
        }
      ],
      "source": [
        "dummies_objects = pd.get_dummies(dataframe[objects_names], prefix=objects_names)\n",
        "dataframe_with_dummies = dataframe.join(dummies_objects)\n",
        "dataframe_with_dummies.head()"
      ]
    },
    {
      "cell_type": "code",
      "execution_count": null,
      "metadata": {
        "colab": {
          "base_uri": "https://localhost:8080/"
        },
        "id": "JYmMSXD5sdOE",
        "outputId": "1d14613f-1456-4ef7-ac3e-4ecadf93c5e3"
      },
      "outputs": [
        {
          "name": "stdout",
          "output_type": "stream",
          "text": [
            "Index(['MSSubClass', 'LotFrontage', 'LotArea', 'OverallQual', 'OverallCond',\n",
            "       'YearBuilt', 'YearRemodAdd', 'MasVnrArea', 'BsmtFinSF1', 'BsmtFinSF2',\n",
            "       ...\n",
            "       'SaleType_ConLw', 'SaleType_New', 'SaleType_Oth', 'SaleType_WD',\n",
            "       'SaleCondition_Abnorml', 'SaleCondition_AdjLand',\n",
            "       'SaleCondition_Alloca', 'SaleCondition_Family', 'SaleCondition_Normal',\n",
            "       'SaleCondition_Partial'],\n",
            "      dtype='object', length=288)\n"
          ]
        }
      ],
      "source": [
        "predictor_lasso_colnames = dataframe_with_dummies.describe().axes[1] #имена колонок\n",
        "predictor_lasso_colnames = predictor_lasso_colnames.drop(['Id', 'SalePrice'])\n",
        "print(predictor_lasso_colnames)"
      ]
    },
    {
      "cell_type": "code",
      "execution_count": null,
      "metadata": {
        "colab": {
          "base_uri": "https://localhost:8080/"
        },
        "id": "dg7gZ_WOtksj",
        "outputId": "ec2f5d9b-0edc-4b7f-f9c7-bd03856fbc17"
      },
      "outputs": [
        {
          "name": "stdout",
          "output_type": "stream",
          "text": [
            "(1460, 288)\n",
            "(1460,)\n"
          ]
        }
      ],
      "source": [
        "# Выделение предикторов в отдельную таблицу\n",
        "X = dataframe_with_dummies[predictor_lasso_colnames]\n",
        "X = X.interpolate(Axis=1)\n",
        "print(X.shape)\n",
        "\n",
        "# Выделение откликов в отдельную таблицу\n",
        "Y = dataframe_with_dummies['SalePrice']\n",
        "print(Y.shape)"
      ]
    },
    {
      "cell_type": "code",
      "execution_count": null,
      "metadata": {
        "colab": {
          "base_uri": "https://localhost:8080/"
        },
        "id": "Oc9X52pzt7Fl",
        "outputId": "d4322748-3093-47ac-968e-885ec3a4f9c7"
      },
      "outputs": [
        {
          "name": "stdout",
          "output_type": "stream",
          "text": [
            "Размер выборки для тренировки и кросс-валидации (1168, 288)\n",
            "Размер откликов для тренировки и кросс-валидации (1168,)\n"
          ]
        }
      ],
      "source": [
        "seed=123\n",
        "test_ratio = 0.2\n",
        "cv_parts = 4\n",
        "\n",
        "X_train, X_test, Y_train, Y_test = train_test_split(X, Y, \n",
        "                                                    test_size=test_ratio, \n",
        "                                                    random_state=seed, \n",
        "                                                    shuffle=True)\n",
        "\n",
        "print(\"Размер выборки для тренировки и кросс-валидации\", X_train.shape) \n",
        "print(\"Размер откликов для тренировки и кросс-валидации\", Y_train.shape)"
      ]
    },
    {
      "cell_type": "markdown",
      "metadata": {
        "id": "PwFh87yTAKzw"
      },
      "source": [
        "## **Модель Lasso**"
      ]
    },
    {
      "cell_type": "code",
      "execution_count": null,
      "metadata": {
        "colab": {
          "base_uri": "https://localhost:8080/"
        },
        "id": "_6qN2kMzrlU9",
        "outputId": "9e0f47a2-98d3-4cba-a79c-b470d4d8593b"
      },
      "outputs": [
        {
          "data": {
            "text/plain": [
              "LassoCV(cv=4, eps=1e-05, n_alphas=10000, random_state=123)"
            ]
          },
          "execution_count": 32,
          "metadata": {},
          "output_type": "execute_result"
        }
      ],
      "source": [
        "model_LASSO_cv = LassoCV(eps = 0.00001, n_alphas = 10000, cv = 4, random_state = seed)\n",
        "model_LASSO_cv.fit(X_train, Y_train)"
      ]
    },
    {
      "cell_type": "code",
      "execution_count": null,
      "metadata": {
        "colab": {
          "base_uri": "https://localhost:8080/"
        },
        "id": "0DNekP8izHak",
        "outputId": "0c0845d4-ac54-462c-848c-c98718098cda"
      },
      "outputs": [
        {
          "data": {
            "text/plain": [
              "0.8030425171940252"
            ]
          },
          "execution_count": 33,
          "metadata": {},
          "output_type": "execute_result"
        }
      ],
      "source": [
        "model_LASSO_cv.score(X_train, Y_train)"
      ]
    },
    {
      "cell_type": "code",
      "execution_count": null,
      "metadata": {
        "colab": {
          "base_uri": "https://localhost:8080/"
        },
        "id": "Z05T64HnvYMD",
        "outputId": "b5390dcd-298c-4b8a-97d7-a9f775f4a0d7"
      },
      "outputs": [
        {
          "data": {
            "text/plain": [
              "0.8465557696787853"
            ]
          },
          "execution_count": 34,
          "metadata": {},
          "output_type": "execute_result"
        }
      ],
      "source": [
        "model_LASSO_cv.score(X_test, Y_test)"
      ]
    },
    {
      "cell_type": "code",
      "execution_count": null,
      "metadata": {
        "colab": {
          "base_uri": "https://localhost:8080/"
        },
        "id": "4AB5BZyOzfts",
        "outputId": "2c422d50-3fb0-4acf-e2e2-fba8ccd8346f"
      },
      "outputs": [
        {
          "data": {
            "text/plain": [
              "18320.355897973168"
            ]
          },
          "execution_count": 35,
          "metadata": {},
          "output_type": "execute_result"
        }
      ],
      "source": [
        "lasso_preds = model_LASSO_cv.predict(X_test)\n",
        "MAE_lasso_dummies = mean_absolute_error(Y_test, lasso_preds)\n",
        "MAE_lasso_dummies"
      ]
    },
    {
      "cell_type": "code",
      "execution_count": null,
      "metadata": {
        "colab": {
          "base_uri": "https://localhost:8080/",
          "height": 486
        },
        "id": "x_o8moK8zdAP",
        "outputId": "6e410d9c-cb16-4cfe-a0cb-7494a2930eb5"
      },
      "outputs": [
        {
          "data": {
            "image/png": "[encoded data removed]",
            "text/plain": [
              "<Figure size 720x540 with 1 Axes>"
            ]
          },
          "metadata": {
            "needs_background": "light"
          },
          "output_type": "display_data"
        }
      ],
      "source": [
        "plt.scatter(lasso_preds, Y_test, c = 'b', label = 'Y to preds Lasso')\n",
        "plt.plot(lasso_preds, lasso_preds, c = 'r', label = 'pred-pred Lasso line')\n",
        "plt.xlabel(\"Predictions\")\n",
        "plt.ylabel(\"True values\")\n",
        "plt.title(\"Linear model approximation of test data via Lasso Regression\")\n",
        "plt.legend()\n",
        "plt.show()"
      ]
    },
    {
      "cell_type": "markdown",
      "metadata": {
        "id": "-NFI_uzDARbh"
      },
      "source": [
        "## **Модель Ridge**"
      ]
    },
    {
      "cell_type": "code",
      "execution_count": null,
      "metadata": {
        "colab": {
          "base_uri": "https://localhost:8080/"
        },
        "id": "2yzde7iDv_xf",
        "outputId": "870563c5-65c0-4f67-a0a5-03590eaa84ec"
      },
      "outputs": [
        {
          "data": {
            "text/plain": [
              "0.7949904311249184"
            ]
          },
          "execution_count": 37,
          "metadata": {},
          "output_type": "execute_result"
        }
      ],
      "source": [
        "model_RIDGE_cv = RidgeCV(alphas = np.linspace(9, 11, 300), cv = 4)\n",
        "model_RIDGE_cv.fit(X_train, Y_train)\n",
        "model_RIDGE_cv.best_score_"
      ]
    },
    {
      "cell_type": "code",
      "execution_count": null,
      "metadata": {
        "colab": {
          "base_uri": "https://localhost:8080/"
        },
        "id": "GBLZLhxsqORK",
        "outputId": "626328cb-9bd3-45a9-85b7-7c030a8b787d"
      },
      "outputs": [
        {
          "data": {
            "text/plain": [
              "10.357859531772576"
            ]
          },
          "execution_count": 38,
          "metadata": {},
          "output_type": "execute_result"
        }
      ],
      "source": [
        "model_RIDGE_cv.alpha_"
      ]
    },
    {
      "cell_type": "code",
      "execution_count": null,
      "metadata": {
        "colab": {
          "base_uri": "https://localhost:8080/"
        },
        "id": "4RitX-1RyTO1",
        "outputId": "834c72e4-96e6-4d50-9656-6fb39143b950"
      },
      "outputs": [
        {
          "data": {
            "text/plain": [
              "0.8990436629162929"
            ]
          },
          "execution_count": 39,
          "metadata": {},
          "output_type": "execute_result"
        }
      ],
      "source": [
        "model_RIDGE_cv.score(X_train, Y_train)"
      ]
    },
    {
      "cell_type": "code",
      "execution_count": null,
      "metadata": {
        "colab": {
          "base_uri": "https://localhost:8080/"
        },
        "id": "vO15sX04xa5Z",
        "outputId": "4423af5c-892a-4777-aefb-22083b61b0ec"
      },
      "outputs": [
        {
          "data": {
            "text/plain": [
              "0.8910532612433733"
            ]
          },
          "execution_count": 40,
          "metadata": {},
          "output_type": "execute_result"
        }
      ],
      "source": [
        "model_RIDGE_cv.score(X_test, Y_test)"
      ]
    },
    {
      "cell_type": "code",
      "execution_count": null,
      "metadata": {
        "colab": {
          "base_uri": "https://localhost:8080/"
        },
        "id": "abiiqByf0i0g",
        "outputId": "f3ff86e1-b0fe-4287-c10c-e9060b482564"
      },
      "outputs": [
        {
          "data": {
            "text/plain": [
              "16274.122422841276"
            ]
          },
          "execution_count": 41,
          "metadata": {},
          "output_type": "execute_result"
        }
      ],
      "source": [
        "ridge_preds = model_RIDGE_cv.predict(X_test)\n",
        "MAE_ridge_dummies = mean_absolute_error(Y_test, ridge_preds)\n",
        "MAE_ridge_dummies"
      ]
    },
    {
      "cell_type": "code",
      "execution_count": null,
      "metadata": {
        "colab": {
          "base_uri": "https://localhost:8080/",
          "height": 486
        },
        "id": "9xZ_gyRU0sd5",
        "outputId": "cdbcdd9f-4ef4-4de9-fa4e-016177be056a"
      },
      "outputs": [
        {
          "data": {
            "image/png": "[encoded data removed]",
            "text/plain": [
              "<Figure size 720x540 with 1 Axes>"
            ]
          },
          "metadata": {
            "needs_background": "light"
          },
          "output_type": "display_data"
        }
      ],
      "source": [
        "plt.scatter(ridge_preds, Y_test, c = 'b', label = 'Y to preds Ridge')\n",
        "plt.plot(ridge_preds, ridge_preds, c = 'r', label = 'pred-pred Ridge line')\n",
        "plt.xlabel(\"Predictions\")\n",
        "plt.ylabel(\"True values\")\n",
        "plt.title(\"Linear model approximation of test data via Ridge Regression\")\n",
        "plt.legend()\n",
        "plt.show()"
      ]
    },
    {
      "cell_type": "code",
      "execution_count": null,
      "metadata": {
        "id": "6pXckufbx_Pj"
      },
      "outputs": [],
      "source": [
        "# Коэффициенты модели\n",
        "# model_RIDGE_cv.coef_"
      ]
    },
    {
      "cell_type": "code",
      "execution_count": null,
      "metadata": {
        "colab": {
          "base_uri": "https://localhost:8080/"
        },
        "id": "C4xAvLhhyZA6",
        "outputId": "66388e1a-ac94-49b0-91d4-acd562b49d4a"
      },
      "outputs": [
        {
          "data": {
            "text/plain": [
              "466827.57630462287"
            ]
          },
          "execution_count": 43,
          "metadata": {},
          "output_type": "execute_result"
        }
      ],
      "source": [
        "# Стартовая цена дома, при всех предикторах == 0\n",
        "model_RIDGE_cv.intercept_"
      ]
    },
    {
      "cell_type": "markdown",
      "metadata": {
        "id": "1XNKEipJ6H4I"
      },
      "source": [
        "## **Итог**"
      ]
    },
    {
      "cell_type": "code",
      "execution_count": null,
      "metadata": {
        "colab": {
          "base_uri": "https://localhost:8080/"
        },
        "id": "I80dkE5G6D8g",
        "outputId": "25e037be-af30-4a22-89cc-16d2ca0c11ef"
      },
      "outputs": [
        {
          "name": "stdout",
          "output_type": "stream",
          "text": [
            "Средняя абсолютная ошибка по линейной модели с числовыми предикторами 19274.53672363394\n",
            "Средняя абсолютная ошибка по линейной модели с Lasso и числовыми + категориальными предикторами 18320.355897973168\n",
            "Средняя абсолютная ошибка по линейной модели с Ridge и числовыми + категориальными предикторами 16274.122422841276\n"
          ]
        }
      ],
      "source": [
        "print(\"Средняя абсолютная ошибка по линейной модели с числовыми предикторами\", MAE_real)\n",
        "print(\"Средняя абсолютная ошибка по линейной модели с Lasso и числовыми + категориальными предикторами\", MAE_lasso_dummies)\n",
        "print(\"Средняя абсолютная ошибка по линейной модели с Ridge и числовыми + категориальными предикторами\", MAE_ridge_dummies)"
      ]
    }
  ],
  "metadata": {
    "colab": {
      "collapsed_sections": [
        "X5tixCH4Ifsb",
        "AZGoYp8MJpd0"
      ],
      "name": "Huawei_Linear_Regression_Lab.ipynb",
      "provenance": []
    },
    "kernelspec": {
      "display_name": "Python 3",
      "name": "python3"
    },
    "language_info": {
      "name": "python"
    }
  },
  "nbformat": 4,
  "nbformat_minor": 0
}
